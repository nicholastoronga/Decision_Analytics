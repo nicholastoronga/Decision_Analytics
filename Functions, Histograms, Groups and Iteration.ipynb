{
 "cells": [
  {
   "cell_type": "markdown",
   "metadata": {},
   "source": [
    "# MGSC 404 Foundations of Decision Analytics \n",
    "\n",
    "## Last Name: Toronga\n",
    "## First Name:  Nicholas Tariro\n",
    "## Student ID: 260715831"
   ]
  },
  {
   "cell_type": "markdown",
   "metadata": {},
   "source": [
    "# Lab 4: Functions, Histograms, Groups and Iteration\n",
    "\n",
    "Please complete this notebook by filling in the cells provided. "
   ]
  },
  {
   "cell_type": "markdown",
   "metadata": {},
   "source": [
    "**Reading**: Textbook chapter [7.2](https://www.inferentialthinking.com/chapters/07/2/visualizing-numerical-distributions.html), chapter [8](https://www.inferentialthinking.com/chapters/08/functions-and-tables.html) and chapter [9](https://www.inferentialthinking.com/chapters/09/randomness.html)."
   ]
  },
  {
   "cell_type": "markdown",
   "metadata": {},
   "source": [
    "You **must** provide your answer in the designated space. No need to write explanations for your answers unless required. \n",
    "\n",
    "Deadline:\n",
    "\n",
    "This lab assignment is **due Thursday, October 4 at the beginging of class**. Please submit a printed **hard copy**. Late work will not be accepted. \n",
    "\n",
    "Tips: \n",
    "\n",
    "1. Directly sharing answers is not okay, but discussing problems with the course staff or with other students is encouraged. Refer to the policies to learn more about how to learn cooperatively. Also, questions that puzzle you are likely to have puzzled many Python learners in the past. **Try Googling your questions for answers from online**. In addtion, [this documentation](http://data8.org/datascience/) is a great reference for table operations.  \n",
    "\n",
    "2. You should start early so that you have time to get help if you're stuck. Drop-in office hours are Thuesday and Thursday 2:30pm-3:30pm in my office 524 Bronfman, right after our class meeting time. \n",
    "\n",
    "3. You will get a much smoother start if you play with the lecture notebook before starting. "
   ]
  },
  {
   "cell_type": "markdown",
   "metadata": {},
   "source": [
    "## Please write down the names of your collaborator(s) in the cell below:"
   ]
  },
  {
   "cell_type": "markdown",
   "metadata": {},
   "source": [
    "(name 1), (name 2),..."
   ]
  },
  {
   "cell_type": "code",
   "execution_count": 72,
   "metadata": {},
   "outputs": [],
   "source": [
    "# Don't change this cell; just run it. \n",
    "\n",
    "import numpy as np\n",
    "from datascience import *\n",
    "\n",
    "# These lines do some fancy plotting magic.\\n\",\n",
    "import matplotlib\n",
    "%matplotlib inline\n",
    "import matplotlib.pyplot as plots\n",
    "plots.style.use('fivethirtyeight')\n",
    "import warnings\n",
    "warnings.simplefilter('ignore', FutureWarning)"
   ]
  },
  {
   "cell_type": "markdown",
   "metadata": {},
   "source": [
    "## 1. Working with Text using Functions (30 points)\n"
   ]
  },
  {
   "cell_type": "markdown",
   "metadata": {},
   "source": [
    "The following table contains the words from four chapters of Charles Dickens' [*A Tale of Two Cities*](http://www.gutenberg.org/cache/epub/98/pg98.txt).  We're going to compute some simple facts about each chapter.  Since we're performing the same computation on each chapter, it's best to encapsulate each computational procedure in a function, and then call the function several times. Run the cell to get a table with one column."
   ]
  },
  {
   "cell_type": "code",
   "execution_count": 73,
   "metadata": {},
   "outputs": [
    {
     "data": {
      "text/html": [
       "<table border=\"1\" class=\"dataframe\">\n",
       "    <thead>\n",
       "        <tr>\n",
       "            <th>Chapter text</th>\n",
       "        </tr>\n",
       "    </thead>\n",
       "    <tbody>\n",
       "        <tr>\n",
       "            <td>I. The Period\n",
       "\n",
       "\n",
       "It was the best of times,\n",
       "it was the wor ...</td>\n",
       "        </tr>\n",
       "        <tr>\n",
       "            <td>II. The Mail\n",
       "\n",
       "\n",
       "It was the Dover road that lay, on a Frid ...</td>\n",
       "        </tr>\n",
       "        <tr>\n",
       "            <td>III. The Night Shadows\n",
       "\n",
       "\n",
       "A wonderful fact to reflect upo ...</td>\n",
       "        </tr>\n",
       "        <tr>\n",
       "            <td>IV. The Preparation\n",
       "\n",
       "\n",
       "When the mail got successfully to  ...</td>\n",
       "        </tr>\n",
       "    </tbody>\n",
       "</table>"
      ],
      "text/plain": [
       "Chapter text\n",
       "I. The Period\n",
       "\n",
       "\n",
       "It was the best of times,\n",
       "it was the wor ...\n",
       "II. The Mail\n",
       "\n",
       "\n",
       "It was the Dover road that lay, on a Frid ...\n",
       "III. The Night Shadows\n",
       "\n",
       "\n",
       "A wonderful fact to reflect upo ...\n",
       "IV. The Preparation\n",
       "\n",
       "\n",
       "When the mail got successfully to  ..."
      ]
     },
     "execution_count": 73,
     "metadata": {},
     "output_type": "execute_result"
    }
   ],
   "source": [
    "# Just run this cell to load the data.\n",
    "tale_chapters = Table.read_table(\"tale.csv\")\n",
    "tale_chapters#.column(\"Chapter text\").item(1)"
   ]
  },
  {
   "cell_type": "code",
   "execution_count": 74,
   "metadata": {},
   "outputs": [
    {
     "data": {
      "text/plain": [
       "2016"
      ]
     },
     "execution_count": 74,
     "metadata": {},
     "output_type": "execute_result"
    }
   ],
   "source": [
    "x = tale_chapters.column(\"Chapter text\").item(1).split()\n",
    "len(x)\n"
   ]
  },
  {
   "cell_type": "code",
   "execution_count": null,
   "metadata": {},
   "outputs": [],
   "source": []
  },
  {
   "cell_type": "markdown",
   "metadata": {},
   "source": [
    "**Question 1.** Write a function called `word_count` that takes a single argument, the text of a single chapter, and returns the number of words in that chapter.  Assume that words are separated from each other by spaces. \n",
    "\n",
    "*Hint:* Try the string method [`split`](https://docs.python.org/3/library/stdtypes.html#str.split) and the function [`len`](https://docs.python.org/3/library/functions.html#len). It is a good idea to play with some toy examples to make sure that your function implements what you want."
   ]
  },
  {
   "cell_type": "code",
   "execution_count": 78,
   "metadata": {
    "for_assignment_type": "student"
   },
   "outputs": [
    {
     "data": {
      "text/plain": [
       "911"
      ]
     },
     "execution_count": 78,
     "metadata": {},
     "output_type": "execute_result"
    }
   ],
   "source": [
    "def word_count(text):\n",
    "    arr = text.split(\" \")\n",
    "    return len(arr)\n",
    "#testing the function\n",
    "word_count(tale_chapters.column(\"Chapter text\").item(0))"
   ]
  },
  {
   "cell_type": "markdown",
   "metadata": {},
   "source": [
    "**Question 2.** Use the `apply` function on the table from before to create an array called `chapter_lengths` which contains the length of each chapter in `tale_chapters`."
   ]
  },
  {
   "cell_type": "code",
   "execution_count": 79,
   "metadata": {},
   "outputs": [
    {
     "data": {
      "text/plain": [
       "array([ 911, 1827, 1468, 3994])"
      ]
     },
     "execution_count": 79,
     "metadata": {},
     "output_type": "execute_result"
    }
   ],
   "source": [
    "chapter_lengths = tale_chapters.apply(word_count, \"Chapter text\")\n",
    "chapter_lengths"
   ]
  },
  {
   "cell_type": "markdown",
   "metadata": {},
   "source": [
    "**Question 3.** Write a function called `character_count`.  It should take a string as its argument and return the number of characters in that string that aren't spaces (\" \"), periods (\".\"), exclamation marks (\"!\"), or question marks (\"?\"). Remember that `tale_chapters` is a table, and that the function takes in only the text of one chapter as input.\n",
    "\n",
    "*Hint:* Try using the string method `replace` several times to remove the characters we don't want to count."
   ]
  },
  {
   "cell_type": "code",
   "execution_count": 80,
   "metadata": {
    "for_assignment_type": "student"
   },
   "outputs": [],
   "source": [
    "def character_count(text):\n",
    "    \"\"\"takes a string argument\"\"\"\n",
    "    punct = '\\n.\\'!?'#also removed the \\n and \\, it did not really make sense to count those as characters\n",
    "    for i in punct:\n",
    "        text_0 = text.replace(i, \"\")\n",
    "        text_1 = text.replace(\" \", \"\")# to remove the spaces\n",
    "        text_2 = text_1.replace(\"\\'\", \"\")\n",
    "        return len(text_2)\n"
   ]
  },
  {
   "cell_type": "code",
   "execution_count": 90,
   "metadata": {},
   "outputs": [
    {
     "data": {
      "text/plain": [
       "20379"
      ]
     },
     "execution_count": 90,
     "metadata": {},
     "output_type": "execute_result"
    }
   ],
   "source": [
    "character_count(tale_chapters.column(\"Chapter text\").item(3))"
   ]
  },
  {
   "cell_type": "code",
   "execution_count": null,
   "metadata": {},
   "outputs": [],
   "source": []
  },
  {
   "cell_type": "markdown",
   "metadata": {},
   "source": [
    "**Question 4.** Write a function called `chapter_number`.  It should take a single argument, the text of a chapter from our dataset, and return the number of that chapter, as a Roman numeral.  (For example, it should return the string \"I\" for the first chapter and \"II\" for the second.)  If the argument doesn't have a chapter number in the same place as the chapters in our dataset, `chapter_number` can return whatever you like.\n",
    "\n",
    "To help you with this, we've included a function called `text_before`.  Its documentation describes what it does."
   ]
  },
  {
   "cell_type": "code",
   "execution_count": 109,
   "metadata": {},
   "outputs": [],
   "source": [
    "def text_before(full_text, pattern):\n",
    "    \"\"\"Finds all the text that occurs in full_text before the specified pattern.\n",
    "\n",
    "    Parameters\n",
    "    ----------\n",
    "    full_text : str\n",
    "        The text we want to search within.\n",
    "    param2 : str\n",
    "        The thing we want to search for.\n",
    "\n",
    "    Returns\n",
    "    -------\n",
    "    str\n",
    "        All the text that occurs in full_text before pattern.  If pattern\n",
    "        doesn't appear anywhere, all of full_text is returned.\n",
    "    \n",
    "    Examples\n",
    "    --------\n",
    "    \n",
    "    >>> text_before(\"The rain in Spain falls mainly on the plain.\", \"Spain\")\n",
    "    'The rain in '\n",
    "    >>> text_before(\"The rain in Spain falls mainly on the plain.\", \"ain\")\n",
    "    'The r'\n",
    "    >>> text_before(\"The rain in Spain falls mainly on the plain.\", \"Portugal\")\n",
    "    'The rain in Spain falls mainly on the plain.'\n",
    "    \"\"\"\n",
    "    return np.array(full_text.split(pattern)).item(0)\n",
    "#This method works in an equal way with the chapter_number one below\n",
    "#def chapter_number(chapter_text):\n",
    "   # return chapter_text.split(\".\")[0]\n",
    "\n",
    "\n",
    "    \n",
    "   \n",
    "   "
   ]
  },
  {
   "cell_type": "code",
   "execution_count": 197,
   "metadata": {},
   "outputs": [],
   "source": [
    "#pattern = np.array(\"The Period It\", \"The Mail It\" , \"The Night Shadows \" , \" The Preparation When\")\n",
    "def chapter_number(chapter_text):\n",
    "    \"\"\"takes a string argument\"\"\"\n",
    "    return text_before(chapter_text, \". The\")\n",
    "   "
   ]
  },
  {
   "cell_type": "code",
   "execution_count": 204,
   "metadata": {},
   "outputs": [
    {
     "data": {
      "text/plain": [
       "'I'"
      ]
     },
     "execution_count": 204,
     "metadata": {},
     "output_type": "execute_result"
    }
   ],
   "source": [
    "chapter_number(tale_chapters.column(\"Chapter text\").item(0))"
   ]
  },
  {
   "cell_type": "code",
   "execution_count": null,
   "metadata": {},
   "outputs": [],
   "source": []
  },
  {
   "cell_type": "markdown",
   "metadata": {},
   "source": [
    "## 2. Uber (30 points)\n"
   ]
  },
  {
   "cell_type": "markdown",
   "metadata": {},
   "source": [
    "Below we load tables containing 200,000 weekday Uber rides in the Manila, Philippines, and Boston, Massachusetts metropolitan areas from the [Uber Movement](https://movement.uber.com) project. The `sourceid` and `dstid` columns contain codes corresponding to start and end locations of each ride. The `hod` column contains codes corresponding to the hour of the day the ride took place. The `ride time` table contains the length of the ride, in minutes."
   ]
  },
  {
   "cell_type": "code",
   "execution_count": null,
   "metadata": {},
   "outputs": [],
   "source": []
  },
  {
   "cell_type": "code",
   "execution_count": null,
   "metadata": {},
   "outputs": [],
   "source": []
  },
  {
   "cell_type": "code",
   "execution_count": 16,
   "metadata": {
    "for_question_type": "solution",
    "scrolled": false
   },
   "outputs": [
    {
     "name": "stdout",
     "output_type": "stream",
     "text": [
      "Boston\n"
     ]
    },
    {
     "data": {
      "text/html": [
       "<table border=\"1\" class=\"dataframe\">\n",
       "    <thead>\n",
       "        <tr>\n",
       "            <th>sourceid</th> <th>dstid</th> <th>hod</th> <th>ride time</th>\n",
       "        </tr>\n",
       "    </thead>\n",
       "    <tbody>\n",
       "        <tr>\n",
       "            <td>584     </td> <td>33   </td> <td>7   </td> <td>11.866   </td>\n",
       "        </tr>\n",
       "        <tr>\n",
       "            <td>1013    </td> <td>1116 </td> <td>13  </td> <td>17.7993  </td>\n",
       "        </tr>\n",
       "        <tr>\n",
       "            <td>884     </td> <td>1190 </td> <td>22  </td> <td>19.3488  </td>\n",
       "        </tr>\n",
       "        <tr>\n",
       "            <td>211     </td> <td>364  </td> <td>1   </td> <td>1.7235   </td>\n",
       "        </tr>\n",
       "    </tbody>\n",
       "</table>\n",
       "<p>... (199996 rows omitted)</p>"
      ],
      "text/plain": [
       "<IPython.core.display.HTML object>"
      ]
     },
     "metadata": {},
     "output_type": "display_data"
    },
    {
     "name": "stdout",
     "output_type": "stream",
     "text": [
      "Manila\n"
     ]
    },
    {
     "data": {
      "text/html": [
       "<table border=\"1\" class=\"dataframe\">\n",
       "    <thead>\n",
       "        <tr>\n",
       "            <th>sourceid</th> <th>dstid</th> <th>hod</th> <th>ride time</th>\n",
       "        </tr>\n",
       "    </thead>\n",
       "    <tbody>\n",
       "        <tr>\n",
       "            <td>544     </td> <td>5    </td> <td>22  </td> <td>22.8115  </td>\n",
       "        </tr>\n",
       "        <tr>\n",
       "            <td>302     </td> <td>240  </td> <td>21  </td> <td>7.02267  </td>\n",
       "        </tr>\n",
       "        <tr>\n",
       "            <td>278     </td> <td>99   </td> <td>16  </td> <td>21.6437  </td>\n",
       "        </tr>\n",
       "        <tr>\n",
       "            <td>720     </td> <td>775  </td> <td>18  </td> <td>13.0597  </td>\n",
       "        </tr>\n",
       "    </tbody>\n",
       "</table>\n",
       "<p>... (199996 rows omitted)</p>"
      ],
      "text/plain": [
       "<IPython.core.display.HTML object>"
      ]
     },
     "metadata": {},
     "output_type": "display_data"
    }
   ],
   "source": [
    "boston = Table.read_table(\"boston.csv\")\n",
    "manila = Table.read_table(\"manila.csv\")\n",
    "print(\"Boston\")\n",
    "boston.show(4)\n",
    "print(\"Manila\")\n",
    "manila.show(4)"
   ]
  },
  {
   "cell_type": "markdown",
   "metadata": {},
   "source": [
    "**Question 1**\n",
    "Produce histograms of all ride times in Boston and in Manila, using the given bins. Please put the code for both of them in the following cell, and put the ride times for Boston first.  "
   ]
  },
  {
   "cell_type": "code",
   "execution_count": 34,
   "metadata": {
    "deletable": false,
    "manual_problem_id": "uber_1"
   },
   "outputs": [
    {
     "name": "stderr",
     "output_type": "stream",
     "text": [
      "/Users/nic_toronga/anaconda3/lib/python3.6/site-packages/matplotlib/axes/_axes.py:6462: UserWarning: The 'normed' kwarg is deprecated, and has been replaced by the 'density' kwarg.\n",
      "  warnings.warn(\"The 'normed' kwarg is deprecated, and has been \"\n"
     ]
    },
    {
     "data": {
      "image/png": "[encoded data removed]",
      "text/plain": [
       "<Figure size 432x288 with 1 Axes>"
      ]
     },
     "metadata": {},
     "output_type": "display_data"
    },
    {
     "data": {
      "image/png": "[encoded data removed]",
      "text/plain": [
       "<Figure size 432x288 with 1 Axes>"
      ]
     },
     "metadata": {},
     "output_type": "display_data"
    }
   ],
   "source": [
    "bins = np.arange(0, 120, 5)\n",
    "boston.hist(3, bins = np.arange(0, 120, 5))  # Histogram for Boston\n",
    "manila.hist(3, bins = np.arange(0, 120, 5))   # Histogram for Manila"
   ]
  },
  {
   "cell_type": "markdown",
   "metadata": {},
   "source": [
    "** Question 2** Set the two variables below to estimates of what percentage of rides are less than 10 minutes in Boston and Manila. Find your estimates by visually assessing the histograms. Your solution should consist of only mathematical operations and numbers. Rough estimate is OK. "
   ]
  },
  {
   "cell_type": "code",
   "execution_count": 38,
   "metadata": {
    "deletable": false,
    "manual_problem_id": "uber_2"
   },
   "outputs": [
    {
     "name": "stdout",
     "output_type": "stream",
     "text": [
      "22.5 9.625\n"
     ]
    }
   ],
   "source": [
    "boston_under_10 = (5 * 1.25 + 3.25 * 5)\n",
    "manila_under_10 = (5 * 0.525 + 5 * 1.4)\n",
    "print(boston_under_10,manila_under_10)"
   ]
  },
  {
   "cell_type": "markdown",
   "metadata": {},
   "source": [
    "**Question 3** Comment on the main difference between the two histograms. What might be causing this?"
   ]
  },
  {
   "cell_type": "markdown",
   "metadata": {
    "deletable": false,
    "for_assignment_type": "student",
    "manual_problem_id": "uber_3"
   },
   "source": [
    "**People in Boston take Uber for shorter times than people in Manila. In general, people in Manila take Uber for much longer times than people in Boston**: "
   ]
  },
  {
   "cell_type": "markdown",
   "metadata": {},
   "source": [
    "**Question 4** The `hod` column in each table represents the hour of the day during which the Uber was called. 0 corresponds to 12-1 AM, 1 to 1-2 AM, 13 to 1-2 PM, etc. Write a function which takes in a table like `boston` or `manila`, and an `hod` number between 0 and 23, and displays a histogram of ride lengths from that hour in that city. Use the same bins as before."
   ]
  },
  {
   "cell_type": "code",
   "execution_count": 42,
   "metadata": {
    "deletable": false,
    "for_assignment_type": "student"
   },
   "outputs": [
    {
     "name": "stderr",
     "output_type": "stream",
     "text": [
      "/Users/nic_toronga/anaconda3/lib/python3.6/site-packages/matplotlib/axes/_axes.py:6462: UserWarning: The 'normed' kwarg is deprecated, and has been replaced by the 'density' kwarg.\n",
      "  warnings.warn(\"The 'normed' kwarg is deprecated, and has been \"\n"
     ]
    },
    {
     "data": {
      "image/png": "[encoded data removed]",
      "text/plain": [
       "<Figure size 432x288 with 1 Axes>"
      ]
     },
     "metadata": {},
     "output_type": "display_data"
    }
   ],
   "source": [
    "def hist_for_time(tbl, hod):\n",
    "    bins = np.arange(0, 120, 5)\n",
    "    new_var = tbl.where(\"hod\", hod)\n",
    "    return new_var.hist(\"ride time\", bins = np.arange(0, 120, 5))\n",
    "        \n",
    "        # use where \n",
    "  \n",
    "\n",
    "#DO NOT DELETE THIS LINE! \n",
    "hist_for_time(boston, 12)"
   ]
  },
  {
   "cell_type": "markdown",
   "metadata": {
    "collapsed": true,
    "deletable": false,
    "for_assignment_type": "student",
    "manual_problem_id": "manual_grading"
   },
   "source": [
    "## 3. Faculty salaries (25 points)\n"
   ]
  },
  {
   "cell_type": "markdown",
   "metadata": {},
   "source": [
    "In the next cell we load a dataset created by the [Daily Cal](http://projects.dailycal.org/paychecker/), containing berkeley faculty, their departments, their positions, and their gross salaries in 2015."
   ]
  },
  {
   "cell_type": "code",
   "execution_count": 59,
   "metadata": {},
   "outputs": [
    {
     "data": {
      "text/html": [
       "<table border=\"1\" class=\"dataframe\">\n",
       "    <thead>\n",
       "        <tr>\n",
       "            <th>name</th> <th>department</th> <th>position</th> <th>gross_salary</th>\n",
       "        </tr>\n",
       "    </thead>\n",
       "    <tbody>\n",
       "        <tr>\n",
       "            <td>CYNTHIA ABAN   </td> <td>South & Southeast Asian Studies</td> <td>lecturer           </td> <td>64450       </td>\n",
       "        </tr>\n",
       "        <tr>\n",
       "            <td>PIETER ABBEEL  </td> <td>Computer Science               </td> <td>associate professor</td> <td>184998      </td>\n",
       "        </tr>\n",
       "        <tr>\n",
       "            <td>SALLY ABEL     </td> <td>Law                            </td> <td>lecturer           </td> <td>3466        </td>\n",
       "        </tr>\n",
       "        <tr>\n",
       "            <td>ELIZABETH ABEL </td> <td>English                        </td> <td>professor          </td> <td>138775      </td>\n",
       "        </tr>\n",
       "        <tr>\n",
       "            <td>DOR ABRAHAMSON </td> <td>Education                      </td> <td>associate professor</td> <td>100300      </td>\n",
       "        </tr>\n",
       "        <tr>\n",
       "            <td>KATHRYN ABRAMS </td> <td>Law                            </td> <td>professor          </td> <td>319693      </td>\n",
       "        </tr>\n",
       "        <tr>\n",
       "            <td>BARBARA ABRAMS </td> <td>Public Health                  </td> <td>professor          </td> <td>191162      </td>\n",
       "        </tr>\n",
       "        <tr>\n",
       "            <td>SARAH ACCOMAZZO</td> <td>Social Welfare                 </td> <td>lecturer           </td> <td>14779       </td>\n",
       "        </tr>\n",
       "        <tr>\n",
       "            <td>CHARISMA ACEY  </td> <td>City and Regional Planning     </td> <td>assistant professor</td> <td>101567      </td>\n",
       "        </tr>\n",
       "        <tr>\n",
       "            <td>DAVID ACKERLY  </td> <td>Biology                        </td> <td>professor          </td> <td>182288      </td>\n",
       "        </tr>\n",
       "    </tbody>\n",
       "</table>\n",
       "<p>... (2049 rows omitted)</p>"
      ],
      "text/plain": [
       "name            | department                      | position            | gross_salary\n",
       "CYNTHIA ABAN    | South & Southeast Asian Studies | lecturer            | 64450\n",
       "PIETER ABBEEL   | Computer Science                | associate professor | 184998\n",
       "SALLY ABEL      | Law                             | lecturer            | 3466\n",
       "ELIZABETH ABEL  | English                         | professor           | 138775\n",
       "DOR ABRAHAMSON  | Education                       | associate professor | 100300\n",
       "KATHRYN ABRAMS  | Law                             | professor           | 319693\n",
       "BARBARA ABRAMS  | Public Health                   | professor           | 191162\n",
       "SARAH ACCOMAZZO | Social Welfare                  | lecturer            | 14779\n",
       "CHARISMA ACEY   | City and Regional Planning      | assistant professor | 101567\n",
       "DAVID ACKERLY   | Biology                         | professor           | 182288\n",
       "... (2049 rows omitted)"
      ]
     },
     "execution_count": 59,
     "metadata": {},
     "output_type": "execute_result"
    }
   ],
   "source": [
    "profs = Table.read_table(\"faculty.csv\").where(\"year\", are.equal_to(2015))\\\n",
    "                                       .drop(\"year\", \"title\")\\\n",
    "                                       .relabeled(\"title_category\", \"position\")\n",
    "profs"
   ]
  },
  {
   "cell_type": "markdown",
   "metadata": {},
   "source": [
    "We want to use this table to generate arrays with the names of each professor in each department."
   ]
  },
  {
   "cell_type": "markdown",
   "metadata": {},
   "source": [
    "**Question 1** Set `prof_names` to a table with two columns. The first column should be called \"department\" and have the name of every department once, and the second column should be called \"faculty\" and contain an *array* of the names of all faculty members in that department. \n",
    "\n",
    "*Hint:* Think about how ```group``` works: it collects values into an array and then applies a function to that array. We have defined two functions below for you, and you will need to use one of them in your call to ```group```."
   ]
  },
  {
   "cell_type": "code",
   "execution_count": 185,
   "metadata": {},
   "outputs": [],
   "source": [
    "# Pick between the two functions defined below \n",
    "def identity(array):\n",
    "    return array \n",
    "\n",
    "def first(array):\n",
    "    return array.item(0)"
   ]
  },
  {
   "cell_type": "code",
   "execution_count": 117,
   "metadata": {},
   "outputs": [
    {
     "data": {
      "text/html": [
       "<table border=\"1\" class=\"dataframe\">\n",
       "    <thead>\n",
       "        <tr>\n",
       "            <th>department</th> <th>name identity</th>\n",
       "        </tr>\n",
       "    </thead>\n",
       "    <tbody>\n",
       "        <tr>\n",
       "            <td>African American Studies                       </td> <td>['AYA DE LEON' 'CHIYUMA ELLIOTT' 'NIKKI JONES' 'DAVID KY ...</td>\n",
       "        </tr>\n",
       "        <tr>\n",
       "            <td>Agricultural and Resource Economics and Policy </td> <td>['MAXIMILIAN AUFFHAMMER' 'CHARLES GIBBONS' 'JEFFREY PERL ...</td>\n",
       "        </tr>\n",
       "        <tr>\n",
       "            <td>Anthroplogy                                    </td> <td>['SABRINA AGARWAL' 'STANLEY BRANDES' 'CHARLES BRIGGS'\n",
       " ' ...</td>\n",
       "        </tr>\n",
       "        <tr>\n",
       "            <td>Architecture                                   </td> <td>['MARK ANDERSON' 'JACOB ATHERTON' 'WILLIAM ATWOOD' 'R.GA ...</td>\n",
       "        </tr>\n",
       "        <tr>\n",
       "            <td>Art History                                    </td> <td>['DILIANA ANGELOVA' 'PATRICIA BERGER' 'JULIA BRYAN-WILSO ...</td>\n",
       "        </tr>\n",
       "        <tr>\n",
       "            <td>Art Practice                                   </td> <td>['ALLAN DESOUZA' 'AIDA GAMEZ' 'RANDY HUSSONG' 'JENNIFER  ...</td>\n",
       "        </tr>\n",
       "        <tr>\n",
       "            <td>Astronomy                                      </td> <td>['GIBOR BASRI' 'STEVEN BECKWITH' 'LEO BLITZ' 'EUGENE CHI ...</td>\n",
       "        </tr>\n",
       "        <tr>\n",
       "            <td>Bioengineering                                 </td> <td>['ADAM ARKIN' 'IRINA CONBOY' 'STEVEN CONOLLY' 'JOHN DUEB ...</td>\n",
       "        </tr>\n",
       "        <tr>\n",
       "            <td>Biology                                        </td> <td>['DAVID ACKERLY' 'HILLEL ADESNIK' 'KELLY AGNEW' 'DORIS B ...</td>\n",
       "        </tr>\n",
       "        <tr>\n",
       "            <td>Buddhist Studies                               </td> <td>['JANN RONIS']                                              </td>\n",
       "        </tr>\n",
       "        <tr>\n",
       "            <td>Business                                       </td> <td>['CAMERON ANDERSON' 'EDWARD AUGENBLICK' 'WASIM AZHAR' 'H ...</td>\n",
       "        </tr>\n",
       "        <tr>\n",
       "            <td>Chemical Engineering                           </td> <td>['NITASH BALSARA' 'ALEXIS BELL' 'COLIN CERRETANI' 'DANIE ...</td>\n",
       "        </tr>\n",
       "        <tr>\n",
       "            <td>Chemistry                                      </td> <td>['RICHARD ANDERSEN' 'JOHN ARNOLD' 'ROBERT BERGMAN' 'KRIS ...</td>\n",
       "        </tr>\n",
       "        <tr>\n",
       "            <td>City and Regional Planning                     </td> <td>['CHARISMA ACEY' 'NEZAR ALSAYYAD' 'PETER BOSSELMANN' 'TE ...</td>\n",
       "        </tr>\n",
       "        <tr>\n",
       "            <td>Civil and Environmental Engineering            </td> <td>['LISA ALVAREZ-COHEN' 'FRANCISCO ARMERO' 'ABOLHASSAN AST ...</td>\n",
       "        </tr>\n",
       "        <tr>\n",
       "            <td>Classics                                       </td> <td>['FRANK BEZNER' 'GIOVANNI FERRARI' 'MARK GRIFFITH' 'LESL ...</td>\n",
       "        </tr>\n",
       "        <tr>\n",
       "            <td>College Writing                                </td> <td>['MICHELLE BAPTISTE' 'STEPHANIE BOBO' 'CHISAKO COLE' 'CA ...</td>\n",
       "        </tr>\n",
       "        <tr>\n",
       "            <td>Comparative Literature                         </td> <td>['JUDITH BUTLER' 'KFIR COHEN' 'ANNE-LISE FRANCOIS' 'VICT ...</td>\n",
       "        </tr>\n",
       "        <tr>\n",
       "            <td>Computer Science                               </td> <td>['PIETER ABBEEL' 'MANEESH AGRAWALA' 'KRSTE ASANOVIC' 'RU ...</td>\n",
       "        </tr>\n",
       "        <tr>\n",
       "            <td>Demography                                     </td> <td>['JOSHUA GOLDSTEIN' 'JENNIFER JOHNSON-HANKS']               </td>\n",
       "        </tr>\n",
       "        <tr>\n",
       "            <td>Earth and Planetary Science                    </td> <td>['RICHARD ALLEN' 'JILL BANFIELD' 'JAMES BISHOP' 'BRUCE B ...</td>\n",
       "        </tr>\n",
       "        <tr>\n",
       "            <td>East Asian Languages and Culture               </td> <td>['JINSOO AN' 'ROBERT ASHMORE' 'YASUKO BAKER' 'BRIAN BAUM ...</td>\n",
       "        </tr>\n",
       "        <tr>\n",
       "            <td>East Asian Studies                             </td> <td>['JACK DAVEY']                                              </td>\n",
       "        </tr>\n",
       "        <tr>\n",
       "            <td>Economics                                      </td> <td>['DAVID AHN' 'MICHAEL ARNOLD' 'ALAN AUERBACH' 'STEPHEN B ...</td>\n",
       "        </tr>\n",
       "        <tr>\n",
       "            <td>Education                                      </td> <td>['DOR ABRAHAMSON' 'CHERYL AGRAWAL' 'ELIZABETH BAHAM'\n",
       " 'S ...</td>\n",
       "        </tr>\n",
       "        <tr>\n",
       "            <td>Electrical Engineering                         </td> <td>['ELAD ALON' 'VENKATACHA ANANTHARAM' 'MURAT ARCAK' 'ANA  ...</td>\n",
       "        </tr>\n",
       "        <tr>\n",
       "            <td>Electrical Engineering and Computer Science    </td> <td>['JAMES DEMMEL' 'ANCA DRAGAN' 'CAROL MARSHALL' 'CHRISTOS ...</td>\n",
       "        </tr>\n",
       "        <tr>\n",
       "            <td>Energy and Resources Engineering               </td> <td>['DAVID ANTHOFF' 'DUNCAN CALLAWAY' 'JOHN HARTE' 'DANIEL  ...</td>\n",
       "        </tr>\n",
       "        <tr>\n",
       "            <td>English                                        </td> <td>['ELIZABETH ABEL' 'CHARLES ALTIERI' 'OLIVER ARNOLD' 'STE ...</td>\n",
       "        </tr>\n",
       "        <tr>\n",
       "            <td>Environmental Design                           </td> <td>['AGOSTINO DI TOMMASO' 'JILL MILLER' 'TIM MOLLETTE-PARKS ...</td>\n",
       "        </tr>\n",
       "        <tr>\n",
       "            <td>Environmental Science, Policy and Management   </td> <td>['JOHN BATTLES' 'GREGORY BIGING' 'CLAUDIA CARR' 'LYNN HU ...</td>\n",
       "        </tr>\n",
       "        <tr>\n",
       "            <td>Ethnic Studies                                 </td> <td>['THOMAS BIOLSI' 'FRANCISCO CASIQUE' 'CAROLYN CHEN' 'CAT ...</td>\n",
       "        </tr>\n",
       "        <tr>\n",
       "            <td>Film and Media                                 </td> <td>['WEIHONG BAO' 'MARY DOANE' 'J KOPELL' 'JEFFREY SKOLLER' ...</td>\n",
       "        </tr>\n",
       "        <tr>\n",
       "            <td>French                                         </td> <td>['DEBORAH BLOCKER' 'DANIELLE BOUCHER' 'KARL BRITTO' 'SED ...</td>\n",
       "        </tr>\n",
       "        <tr>\n",
       "            <td>Gender and Women's Studies                     </td> <td>['AYSE AGIS' 'JACQUELINE ASHER' 'PAOLA BACCHETTA' 'BARBA ...</td>\n",
       "        </tr>\n",
       "        <tr>\n",
       "            <td>Geography                                      </td> <td>['GRAY BRECHIN' 'ANTHONY BYRNE' 'JEFFREY CHAMBERS' 'JOHN ...</td>\n",
       "        </tr>\n",
       "        <tr>\n",
       "            <td>German                                         </td> <td>['PAUL BUCHHOLZ' 'YAEL CHAVER' 'JEROEN DEWULF' 'NIKOLAUS ...</td>\n",
       "        </tr>\n",
       "        <tr>\n",
       "            <td>History                                        </td> <td>['RODOLFO ALANIZ' 'JANAKI BAKHLE' 'ANDREW BARSHAY' 'MARY ...</td>\n",
       "        </tr>\n",
       "        <tr>\n",
       "            <td>Industrial Engineering & Operations Research   </td> <td>['ILAN ADLER' 'ANIL ASWANI' 'ALPER ATAMTURK' 'LEE FLEMIN ...</td>\n",
       "        </tr>\n",
       "        <tr>\n",
       "            <td>Information                                    </td> <td>['OLUKAYODE ASHAOLU' 'DAVID BAMMAN' 'JENNA BURRELL' 'COY ...</td>\n",
       "        </tr>\n",
       "        <tr>\n",
       "            <td>Interdisciplinary Studies                      </td> <td>['RAKESH BHANDARI' 'MARK BRILLIANT' 'ALEKSEY DUBILET' 'L ...</td>\n",
       "        </tr>\n",
       "        <tr>\n",
       "            <td>International and Area Studies                 </td> <td>['STEPHANIE BALLENGER' 'PETER BARTU' 'DAVID BEECHER'\n",
       " 'K ...</td>\n",
       "        </tr>\n",
       "        <tr>\n",
       "            <td>Italian                                        </td> <td>['ALBERT ASCOLI' 'ANNA BELLEZZA' 'STEVEN BOTTERILL' 'MAR ...</td>\n",
       "        </tr>\n",
       "        <tr>\n",
       "            <td>Journalism                                     </td> <td>['ORLANDO BAGWELL' 'LOWELL BERGMAN' 'JOAN BIEDER' 'MARK  ...</td>\n",
       "        </tr>\n",
       "        <tr>\n",
       "            <td>Landscape Architecture & Environmental Planning</td> <td>['JOAN CHAPLICK' 'IRYNA DRONOVA' 'JEFFREY HALTINER' 'KRI ...</td>\n",
       "        </tr>\n",
       "        <tr>\n",
       "            <td>Law                                            </td> <td>['SALLY ABEL' 'KATHRYN ABRAMS' 'CATHERINE ALBISTON' 'ROB ...</td>\n",
       "        </tr>\n",
       "        <tr>\n",
       "            <td>Linguistics                                    </td> <td>['AMY DEAL' 'SUSANNE GAHL' 'ANDREW GARRETT' 'SHERRY HICK ...</td>\n",
       "        </tr>\n",
       "        <tr>\n",
       "            <td>Material Science and Engineering               </td> <td>['MARK ASTA' 'GERBRAND CEDER' 'DARYL CHRZAN' 'THOMAS DEV ...</td>\n",
       "        </tr>\n",
       "        <tr>\n",
       "            <td>Mathematics                                    </td> <td>['IAN AGOL' 'DENIS AUROUX' 'RICHARD BAMLER' 'RICHARD BOR ...</td>\n",
       "        </tr>\n",
       "        <tr>\n",
       "            <td>Mechanical Engineering                         </td> <td>['ALICE AGOGINO' 'MOHAMMAD-REZA ALAM' 'GEORGE ANWAR' 'FR ...</td>\n",
       "        </tr>\n",
       "        <tr>\n",
       "            <td>Middle Eastern Studies                         </td> <td>['DANIEL ZOUGHBIE']                                         </td>\n",
       "        </tr>\n",
       "        <tr>\n",
       "            <td>Music                                          </td> <td>['FRANCK BEDROSSIAN' 'BENJAMIN BRINNER' 'EDMUND CAMPION' ...</td>\n",
       "        </tr>\n",
       "        <tr>\n",
       "            <td>Near Eastern Studies                           </td> <td>['RUTIE ADLER' 'SHAHWALI AHMADI' 'ASAD AHMED' 'HATEM BAZ ...</td>\n",
       "        </tr>\n",
       "        <tr>\n",
       "            <td>Nuclear Engineering                            </td> <td>['JOONHONG AHN' 'RALPH BERGER' 'MASSIMILIANO FRATONI' 'P ...</td>\n",
       "        </tr>\n",
       "        <tr>\n",
       "            <td>Nutritional science                            </td> <td>['GREGORY APONTE' 'MARC HELLERSTEIN' 'MARY LESSER' 'KRIS ...</td>\n",
       "        </tr>\n",
       "        <tr>\n",
       "            <td>Optometry                                      </td> <td>['MARTIN BANKS' 'LU CHEN' 'SUSANA CHUNG' 'JOHN FLANNERY' ...</td>\n",
       "        </tr>\n",
       "        <tr>\n",
       "            <td>Philosophy                                     </td> <td>['LARA BUCHAK' 'JOHN CAMPBELL' 'TIMOTHY CLARKE' 'KLAUS C ...</td>\n",
       "        </tr>\n",
       "        <tr>\n",
       "            <td>Physics                                        </td> <td>['MINA AGANAGIC' 'JAMES ANALITIS' 'STUART BALE' 'ROBERT  ...</td>\n",
       "        </tr>\n",
       "        <tr>\n",
       "            <td>Political Science                              </td> <td>['VINOD AGGARWAL' 'CHRISTOPHER ANSELL' 'LEONARDO ARRIOLA ...</td>\n",
       "        </tr>\n",
       "        <tr>\n",
       "            <td>Psychology                                     </td> <td>['OZLEM AYDUK' 'SONIA BISHOP' 'SILVIA BUNGE' 'JOSEPH CAM ...</td>\n",
       "        </tr>\n",
       "        <tr>\n",
       "            <td>Public Health                                  </td> <td>['BARBARA ABRAMS' 'JENNIFER AHERN' 'LISA BARCELLOS' 'JOA ...</td>\n",
       "        </tr>\n",
       "        <tr>\n",
       "            <td>Public Policy                                  </td> <td>['SARAH ANZIA' 'MIA BIRD' 'HECTOR CARDENAS' 'BRENT COPEN ...</td>\n",
       "        </tr>\n",
       "        <tr>\n",
       "            <td>Rhetoric                                       </td> <td>['DAVID BATES' 'EMILY CARPENTER' 'PHENG CHEAH' 'MARIANNE ...</td>\n",
       "        </tr>\n",
       "        <tr>\n",
       "            <td>Scandinavian Languages                         </td> <td>['MOLLY BAUER' 'JACKSON CRAWFORD' 'DARA HELLMAN' 'KATHER ...</td>\n",
       "        </tr>\n",
       "        <tr>\n",
       "            <td>Slavic Languages and Literature                </td> <td>['RONELLE ALEXANDER' 'DAVID FRICK' 'LYUBOV GOLBURT' 'MIL ...</td>\n",
       "        </tr>\n",
       "        <tr>\n",
       "            <td>Social Welfare                                 </td> <td>['SARAH ACCOMAZZO' 'CLAUDIA ALBANO' 'MICHAEL AUSTIN' 'JA ...</td>\n",
       "        </tr>\n",
       "        <tr>\n",
       "            <td>Sociology                                      </td> <td>['JILL BAKEHORN' 'ANDREW BARLOW' 'IRENE BLOEMRAAD' 'MICH ...</td>\n",
       "        </tr>\n",
       "        <tr>\n",
       "            <td>South & Southeast Asian Studies                </td> <td>['CYNTHIA ABAN' 'MARIA BARRIOS-LEBLANC' 'PENELOPE EDWARD ...</td>\n",
       "        </tr>\n",
       "        <tr>\n",
       "            <td>Spanish and Portuguese                         </td> <td>['MILTON AZEVEDO' 'AMELIA BARILI' 'EMILIE BERGMANN' 'NAT ...</td>\n",
       "        </tr>\n",
       "        <tr>\n",
       "            <td>Statistics                                     </td> <td>['ANINDITA ADHIKARI' 'DAVID ALDOUS' 'PETER BARTLETT' 'DA ...</td>\n",
       "        </tr>\n",
       "        <tr>\n",
       "            <td>Theater, Dance and Performance Studies         </td> <td>['JOHN CARPENTER' 'BRANDI CATANESE' 'ABIGAIL DE KOSNIK'  ...</td>\n",
       "        </tr>\n",
       "    </tbody>\n",
       "</table>"
      ],
      "text/plain": [
       "<IPython.core.display.HTML object>"
      ]
     },
     "metadata": {},
     "output_type": "display_data"
    }
   ],
   "source": [
    "prof_names = profs.select(1,0).group(\"department\", identity)\n",
    "prof_names.show()"
   ]
  },
  {
   "cell_type": "markdown",
   "metadata": {
    "deletable": false,
    "manual_problem_id": "faculty_1"
   },
   "source": [
    "**Question 2** Set `biggest_range_dept` to the name of the department with the largest salary range, where range is defined as the difference between the lowest and highest salaries in the department. \n",
    "\n",
    "*Hint:* First you'll need to define a new function `salary_range` which takes in an array of salaries and returns the salary range of the corresponding department. Think about what functions we have discussed can combine and give you this range. Then, set `department_ranges` to a table containing the names and salary ranges of each department. "
   ]
  },
  {
   "cell_type": "code",
   "execution_count": 147,
   "metadata": {},
   "outputs": [],
   "source": [
    "# Define salary_range in this cell\n",
    "def salary_range(arr):\n",
    "    return max(arr)-min(arr)"
   ]
  },
  {
   "cell_type": "code",
   "execution_count": 128,
   "metadata": {},
   "outputs": [
    {
     "data": {
      "text/plain": [
       "array([146781., 223480., 265005., 240149., 180065., 152967., 292362.,\n",
       "       199195., 292583.,      0., 453469., 267417., 356763., 247719.,\n",
       "       280265., 122728., 100307., 290952., 355507., 103504., 265000.,\n",
       "       212683.,      0., 495703., 304118., 195513., 314470., 113509.,\n",
       "       232925.,  34000., 197903., 187518., 223405., 242441., 172011.,\n",
       "       226244., 203275., 268852., 306932., 239947., 197141., 105824.,\n",
       "       206392., 185471., 145550., 440536., 175750., 259472., 231410.,\n",
       "       308937.,      0., 177649., 200450., 183793., 215997., 283213.,\n",
       "       270303., 439340., 330712., 289182., 463779., 322658., 125070.,\n",
       "       169849., 192620., 248981., 326941., 195060., 176144., 365479.,\n",
       "       182323.])"
      ]
     },
     "execution_count": 128,
     "metadata": {},
     "output_type": "execute_result"
    }
   ],
   "source": [
    "\n",
    "\n",
    "\n",
    "#Trying the other methods\n",
    "\n",
    "max_amts\n",
    "\n",
    "min_amts = profs.select(1, 3).group(\"department\", min)\n",
    "min_amts\n",
    "\n",
    "max_amts.column(1) - min_amts.column(1)\n",
    "\n",
    "\n"
   ]
  },
  {
   "cell_type": "code",
   "execution_count": 156,
   "metadata": {},
   "outputs": [
    {
     "data": {
      "text/html": [
       "<table border=\"1\" class=\"dataframe\">\n",
       "    <thead>\n",
       "        <tr>\n",
       "            <th>department</th> <th>gross_salary salary_range</th>\n",
       "        </tr>\n",
       "    </thead>\n",
       "    <tbody>\n",
       "        <tr>\n",
       "            <td>Economics </td> <td>495703                   </td>\n",
       "        </tr>\n",
       "    </tbody>\n",
       "</table>"
      ],
      "text/plain": [
       "department | gross_salary salary_range\n",
       "Economics  | 495703"
      ]
     },
     "execution_count": 156,
     "metadata": {},
     "output_type": "execute_result"
    }
   ],
   "source": [
    "department_ranges = profs.select(1, 3).group(\"department\",salary_range) #salary_range)\n",
    "department_ranges\n",
    "\n",
    "#Biggest department ranges\n",
    "\n",
    "type(department_ranges)\n",
    "max_range = max(department_ranges.column(1))\n",
    "biggest_range_dept = department_ranges.where(\"gross_salary salary_range\", max_range)\n",
    "biggest_range_dept\n",
    "\n"
   ]
  },
  {
   "cell_type": "code",
   "execution_count": 136,
   "metadata": {},
   "outputs": [
    {
     "data": {
      "text/html": [
       "<table border=\"1\" class=\"dataframe\">\n",
       "    <thead>\n",
       "        <tr>\n",
       "            <th>department</th> <th>gross_salary salary_range</th>\n",
       "        </tr>\n",
       "    </thead>\n",
       "    <tbody>\n",
       "        <tr>\n",
       "            <td>African American Studies                      </td> <td>146781                   </td>\n",
       "        </tr>\n",
       "        <tr>\n",
       "            <td>Agricultural and Resource Economics and Policy</td> <td>223480                   </td>\n",
       "        </tr>\n",
       "        <tr>\n",
       "            <td>Anthroplogy                                   </td> <td>265005                   </td>\n",
       "        </tr>\n",
       "        <tr>\n",
       "            <td>Architecture                                  </td> <td>240149                   </td>\n",
       "        </tr>\n",
       "        <tr>\n",
       "            <td>Art History                                   </td> <td>180065                   </td>\n",
       "        </tr>\n",
       "        <tr>\n",
       "            <td>Art Practice                                  </td> <td>152967                   </td>\n",
       "        </tr>\n",
       "        <tr>\n",
       "            <td>Astronomy                                     </td> <td>292362                   </td>\n",
       "        </tr>\n",
       "        <tr>\n",
       "            <td>Bioengineering                                </td> <td>199195                   </td>\n",
       "        </tr>\n",
       "        <tr>\n",
       "            <td>Biology                                       </td> <td>292583                   </td>\n",
       "        </tr>\n",
       "        <tr>\n",
       "            <td>Buddhist Studies                              </td> <td>0                        </td>\n",
       "        </tr>\n",
       "    </tbody>\n",
       "</table>\n",
       "<p>... (61 rows omitted)</p>"
      ],
      "text/plain": [
       "department                                     | gross_salary salary_range\n",
       "African American Studies                       | 146781\n",
       "Agricultural and Resource Economics and Policy | 223480\n",
       "Anthroplogy                                    | 265005\n",
       "Architecture                                   | 240149\n",
       "Art History                                    | 180065\n",
       "Art Practice                                   | 152967\n",
       "Astronomy                                      | 292362\n",
       "Bioengineering                                 | 199195\n",
       "Biology                                        | 292583\n",
       "Buddhist Studies                               | 0\n",
       "... (61 rows omitted)"
      ]
     },
     "execution_count": 136,
     "metadata": {},
     "output_type": "execute_result"
    }
   ],
   "source": [
    "department_ranges"
   ]
  },
  {
   "cell_type": "markdown",
   "metadata": {},
   "source": [
    "## 4. Unrolling Loops (15 points)"
   ]
  },
  {
   "cell_type": "markdown",
   "metadata": {},
   "source": [
    "\"Unrolling\" a `for` loop means to manually write out all the code that it executes.  The result is code that does the same thing as the loop, but without the loop.  For example, the unrolled version of this loop:\n",
    "\n",
    "    for num in np.arange(3):\n",
    "        print(\"The number is\", num)\n",
    "\n",
    "is this:\n",
    "\n",
    "    print(\"The number is\", 0)\n",
    "    print(\"The number is\", 1)\n",
    "    print(\"The number is\", 2)\n",
    "\n",
    "It's important to understand that this is really all that a `for` loop does.  In this exercise, you'll practice unrolling `for` loops.\n",
    "\n",
    "In each question below, write code that does the same thing as the given code, but with any `for` loops unrolled.  It's a good idea to run both your answer and the original code to verify that they do the same thing.  (Of course, if the code does something random, you'll get a different random outcome than the original code!)\n",
    "\n",
    "First, run the cell below to load data that will be used in a few questions.  It's a table with 52 rows, one for each type of card in a deck of playing cards.  A playing card has a \"suit\" (\"♠︎\", \"♣︎\", \"♥︎\", or \"♦︎\") and a \"rank\" (2 through 10, J, Q, K, or A).  There are 4 suits and 13 ranks, so there are $4 \\times 13 = 52$ different cards."
   ]
  },
  {
   "cell_type": "code",
   "execution_count": 184,
   "metadata": {},
   "outputs": [
    {
     "data": {
      "text/html": [
       "<table border=\"1\" class=\"dataframe\">\n",
       "    <thead>\n",
       "        <tr>\n",
       "            <th>Rank</th> <th>Suit</th>\n",
       "        </tr>\n",
       "    </thead>\n",
       "    <tbody>\n",
       "        <tr>\n",
       "            <td>2   </td> <td>♠︎  </td>\n",
       "        </tr>\n",
       "        <tr>\n",
       "            <td>2   </td> <td>♣︎  </td>\n",
       "        </tr>\n",
       "        <tr>\n",
       "            <td>2   </td> <td>♥︎  </td>\n",
       "        </tr>\n",
       "        <tr>\n",
       "            <td>2   </td> <td>♦︎  </td>\n",
       "        </tr>\n",
       "        <tr>\n",
       "            <td>3   </td> <td>♠︎  </td>\n",
       "        </tr>\n",
       "        <tr>\n",
       "            <td>3   </td> <td>♣︎  </td>\n",
       "        </tr>\n",
       "        <tr>\n",
       "            <td>3   </td> <td>♥︎  </td>\n",
       "        </tr>\n",
       "        <tr>\n",
       "            <td>3   </td> <td>♦︎  </td>\n",
       "        </tr>\n",
       "        <tr>\n",
       "            <td>4   </td> <td>♠︎  </td>\n",
       "        </tr>\n",
       "        <tr>\n",
       "            <td>4   </td> <td>♣︎  </td>\n",
       "        </tr>\n",
       "    </tbody>\n",
       "</table>\n",
       "<p>... (42 rows omitted)</p>"
      ],
      "text/plain": [
       "Rank | Suit\n",
       "2    | ♠︎\n",
       "2    | ♣︎\n",
       "2    | ♥︎\n",
       "2    | ♦︎\n",
       "3    | ♠︎\n",
       "3    | ♣︎\n",
       "3    | ♥︎\n",
       "3    | ♦︎\n",
       "4    | ♠︎\n",
       "4    | ♣︎\n",
       "... (42 rows omitted)"
      ]
     },
     "execution_count": 184,
     "metadata": {},
     "output_type": "execute_result"
    }
   ],
   "source": [
    "deck = Table.read_table(\"deck.csv\")\n",
    "deck"
   ]
  },
  {
   "cell_type": "markdown",
   "metadata": {
    "deletable": false
   },
   "source": [
    "**Question 1.** Unroll the code below."
   ]
  },
  {
   "cell_type": "code",
   "execution_count": 183,
   "metadata": {},
   "outputs": [
    {
     "data": {
      "text/html": [
       "<table border=\"1\" class=\"dataframe\">\n",
       "    <thead>\n",
       "        <tr>\n",
       "            <th>Rank</th> <th>Suit</th>\n",
       "        </tr>\n",
       "    </thead>\n",
       "    <tbody>\n",
       "        <tr>\n",
       "            <td>8   </td> <td>♣︎  </td>\n",
       "        </tr>\n",
       "        <tr>\n",
       "            <td>10  </td> <td>♣︎  </td>\n",
       "        </tr>\n",
       "        <tr>\n",
       "            <td>4   </td> <td>♣︎  </td>\n",
       "        </tr>\n",
       "        <tr>\n",
       "            <td>4   </td> <td>♠︎  </td>\n",
       "        </tr>\n",
       "        <tr>\n",
       "            <td>3   </td> <td>♦︎  </td>\n",
       "        </tr>\n",
       "    </tbody>\n",
       "</table>"
      ],
      "text/plain": [
       "Rank | Suit\n",
       "8    | ♣︎\n",
       "10   | ♣︎\n",
       "4    | ♣︎\n",
       "4    | ♠︎\n",
       "3    | ♦︎"
      ]
     },
     "execution_count": 183,
     "metadata": {},
     "output_type": "execute_result"
    }
   ],
   "source": [
    "# This table will hold the cards in a randomly-drawn hand of\n",
    "# 5 cards.  We simulate cards being drawn as follows: We draw\n",
    "# a card at random from the deck, make a copy of it, put the\n",
    "# copy in our hand, and put the card back in the deck.  That\n",
    "# means we might draw the same card multiple times, which is\n",
    "# different from a normal draw in most card games.\n",
    "hand = Table().with_columns(\"Rank\", make_array(), \"Suit\", make_array())\n",
    "for suit in np.arange(5):\n",
    "    card = deck.row(np.random.randint(deck.num_rows))\n",
    "    hand.append(card)\n",
    "hand"
   ]
  },
  {
   "cell_type": "markdown",
   "metadata": {
    "collapsed": true,
    "deletable": false
   },
   "source": [
    "hand = Table().with_columns(\"Rank\", make_array(), \"Suit\", make_array())\n",
    "...\n",
    "...\n",
    "hand"
   ]
  },
  {
   "cell_type": "code",
   "execution_count": 182,
   "metadata": {},
   "outputs": [
    {
     "data": {
      "text/html": [
       "<table border=\"1\" class=\"dataframe\">\n",
       "    <thead>\n",
       "        <tr>\n",
       "            <th>Rank</th> <th>Suit</th>\n",
       "        </tr>\n",
       "    </thead>\n",
       "    <tbody>\n",
       "        <tr>\n",
       "            <td>5   </td> <td>♥︎  </td>\n",
       "        </tr>\n",
       "        <tr>\n",
       "            <td>K   </td> <td>♥︎  </td>\n",
       "        </tr>\n",
       "        <tr>\n",
       "            <td>3   </td> <td>♣︎  </td>\n",
       "        </tr>\n",
       "        <tr>\n",
       "            <td>2   </td> <td>♣︎  </td>\n",
       "        </tr>\n",
       "        <tr>\n",
       "            <td>10  </td> <td>♠︎  </td>\n",
       "        </tr>\n",
       "    </tbody>\n",
       "</table>"
      ],
      "text/plain": [
       "Rank | Suit\n",
       "5    | ♥︎\n",
       "K    | ♥︎\n",
       "3    | ♣︎\n",
       "2    | ♣︎\n",
       "10   | ♠︎"
      ]
     },
     "execution_count": 182,
     "metadata": {},
     "output_type": "execute_result"
    }
   ],
   "source": [
    "#Unrolling using hand1 as the new table to avoid using the same names\n",
    "\n",
    "hand1 =  Table().with_columns(\"Rank\", make_array(), \"Suit\", make_array())\n",
    "card1 = deck.row(np.random.randint(deck.num_rows))\n",
    "hand1.append(card1)\n",
    "card2 = deck.row(np.random.randint(deck.num_rows))\n",
    "hand1.append(card2)\n",
    "card3 = deck.row(np.random.randint(deck.num_rows))\n",
    "hand1.append(card3)\n",
    "card4 = deck.row(np.random.randint(deck.num_rows))\n",
    "hand1.append(card4)\n",
    "card5 = deck.row(np.random.randint(deck.num_rows))\n",
    "hand1.append(card5)\n",
    "hand1"
   ]
  },
  {
   "cell_type": "code",
   "execution_count": null,
   "metadata": {},
   "outputs": [],
   "source": []
  },
  {
   "cell_type": "markdown",
   "metadata": {},
   "source": [
    "**Question 2.** Unroll the code below."
   ]
  },
  {
   "cell_type": "code",
   "execution_count": 181,
   "metadata": {},
   "outputs": [
    {
     "name": "stdout",
     "output_type": "stream",
     "text": [
      "Knock, knock.\n",
      "Who's there?\n",
      "Banana.\n",
      "Banana who?\n",
      "Knock, knock.\n",
      "Who's there?\n",
      "Banana.\n",
      "Banana who?\n",
      "Knock, knock.\n",
      "Who's there?\n",
      "Banana.\n",
      "Banana who?\n",
      "Knock, knock.\n",
      "Who's there?\n",
      "Banana.\n",
      "Banana who?\n",
      "Knock, knock.\n",
      "Who's there?\n",
      "Orange.\n",
      "Orange who?\n",
      "Orange you glad I didn't say banana?\n"
     ]
    }
   ],
   "source": [
    "for joke_iteration in np.arange(4):\n",
    "    print(\"Knock, knock.\")\n",
    "    print(\"Who's there?\")\n",
    "    print(\"Banana.\")\n",
    "    print(\"Banana who?\")\n",
    "print(\"Knock, knock.\")\n",
    "print(\"Who's there?\")\n",
    "print(\"Orange.\")\n",
    "print(\"Orange who?\")\n",
    "print(\"Orange you glad I didn't say banana?\")"
   ]
  },
  {
   "cell_type": "code",
   "execution_count": 177,
   "metadata": {
    "for_assignment_type": "student"
   },
   "outputs": [
    {
     "name": "stdout",
     "output_type": "stream",
     "text": [
      "Knock, knock.\n",
      "Who's there?\n",
      "Banana.\n",
      "Banana who?\n",
      "Knock, knock.\n",
      "Who's there?\n",
      "Banana.\n",
      "Banana who?\n",
      "Knock, knock.\n",
      "Who's there?\n",
      "Banana.\n",
      "Banana who?\n",
      "Knock, knock.\n",
      "Who's there?\n",
      "Banana.\n",
      "Banana who?\n",
      "Knock, knock.\n",
      "Who's there?\n",
      "Orange.\n",
      "Orange who?\n",
      "Orange you glad I didn't say banana?\n"
     ]
    }
   ],
   "source": [
    "print(\"Knock, knock.\")\n",
    "print(\"Who's there?\")\n",
    "print(\"Banana.\")\n",
    "print(\"Banana who?\")\n",
    "print(\"Knock, knock.\")\n",
    "print(\"Who's there?\")\n",
    "print(\"Banana.\")\n",
    "print(\"Banana who?\")\n",
    "print(\"Knock, knock.\")\n",
    "print(\"Who's there?\")\n",
    "print(\"Banana.\")\n",
    "print(\"Banana who?\")\n",
    "print(\"Knock, knock.\")\n",
    "print(\"Who's there?\")\n",
    "print(\"Banana.\")\n",
    "print(\"Banana who?\")\n",
    "print(\"Knock, knock.\")\n",
    "print(\"Who's there?\")\n",
    "print(\"Orange.\")\n",
    "print(\"Orange who?\")\n",
    "print(\"Orange you glad I didn't say banana?\")"
   ]
  },
  {
   "cell_type": "markdown",
   "metadata": {},
   "source": [
    "**Question 3.** Unroll the code below.\n",
    "\n",
    "*Hint:* `np.random.randint` returns a random integer between 0 (inclusive) and the value that's passed in (exclusive)."
   ]
  },
  {
   "cell_type": "code",
   "execution_count": 180,
   "metadata": {},
   "outputs": [
    {
     "data": {
      "text/html": [
       "<table border=\"1\" class=\"dataframe\">\n",
       "    <thead>\n",
       "        <tr>\n",
       "            <th>Rank</th> <th>Suit</th>\n",
       "        </tr>\n",
       "    </thead>\n",
       "    <tbody>\n",
       "        <tr>\n",
       "            <td>A   </td> <td>♠︎  </td>\n",
       "        </tr>\n",
       "        <tr>\n",
       "            <td>6   </td> <td>♣︎  </td>\n",
       "        </tr>\n",
       "        <tr>\n",
       "            <td>K   </td> <td>♥︎  </td>\n",
       "        </tr>\n",
       "        <tr>\n",
       "            <td>9   </td> <td>♦︎  </td>\n",
       "        </tr>\n",
       "    </tbody>\n",
       "</table>"
      ],
      "text/plain": [
       "Rank | Suit\n",
       "A    | ♠︎\n",
       "6    | ♣︎\n",
       "K    | ♥︎\n",
       "9    | ♦︎"
      ]
     },
     "execution_count": 180,
     "metadata": {},
     "output_type": "execute_result"
    }
   ],
   "source": [
    "# This table will hold the cards in a randomly-drawn hand of\n",
    "# 4 cards.  The cards are drawn as follows: For each of the\n",
    "# 4 suits, we draw a random card of that suit and put it into\n",
    "# our hand.  The cards within a suit are drawn uniformly at\n",
    "# random, meaning each card of the suit has an equal chance of\n",
    "# being drawn.\n",
    "hand_of_4 = Table().with_columns(\"Rank\", make_array(), \"Suit\", make_array())\n",
    "for suit in make_array(\"♠︎\", \"♣︎\", \"♥︎\", \"♦︎\"):\n",
    "    cards_of_suit = deck.where(\"Suit\", are.equal_to(suit))\n",
    "    card = cards_of_suit.row(np.random.randint(cards_of_suit.num_rows))\n",
    "    hand_of_4.append(card)\n",
    "    \n",
    "hand_of_4"
   ]
  },
  {
   "cell_type": "code",
   "execution_count": 179,
   "metadata": {
    "for_assignment_type": "student"
   },
   "outputs": [
    {
     "data": {
      "text/html": [
       "<table border=\"1\" class=\"dataframe\">\n",
       "    <thead>\n",
       "        <tr>\n",
       "            <th>Rank</th> <th>Suit</th>\n",
       "        </tr>\n",
       "    </thead>\n",
       "    <tbody>\n",
       "        <tr>\n",
       "            <td>4   </td> <td>♠︎  </td>\n",
       "        </tr>\n",
       "        <tr>\n",
       "            <td>8   </td> <td>♣︎  </td>\n",
       "        </tr>\n",
       "        <tr>\n",
       "            <td>5   </td> <td>♥︎  </td>\n",
       "        </tr>\n",
       "        <tr>\n",
       "            <td>5   </td> <td>♦︎  </td>\n",
       "        </tr>\n",
       "    </tbody>\n",
       "</table>"
      ],
      "text/plain": [
       "Rank | Suit\n",
       "4    | ♠︎\n",
       "8    | ♣︎\n",
       "5    | ♥︎\n",
       "5    | ♦︎"
      ]
     },
     "execution_count": 179,
     "metadata": {},
     "output_type": "execute_result"
    }
   ],
   "source": [
    "#using hand_of_4_1 to assess the results easily\n",
    "hand_of_4_1 = Table().with_columns(\"Rank\", make_array(), \"Suit\", make_array())\n",
    "cards_of_suit = deck.where(\"Suit\", are.equal_to(\"♠︎\"))\n",
    "card = cards_of_suit.row(np.random.randint(cards_of_suit.num_rows))\n",
    "hand_of_4_1.append(card)\n",
    "cards_of_suit = deck.where(\"Suit\", are.equal_to(\"♣︎\"))\n",
    "card = cards_of_suit.row(np.random.randint(cards_of_suit.num_rows))\n",
    "hand_of_4_1.append(card)\n",
    "cards_of_suit = deck.where(\"Suit\", are.equal_to(\"♥︎\"))\n",
    "card = cards_of_suit.row(np.random.randint(cards_of_suit.num_rows))\n",
    "hand_of_4_1.append(card)\n",
    "cards_of_suit = deck.where(\"Suit\", are.equal_to(\"♦︎\"))\n",
    "card = cards_of_suit.row(np.random.randint(cards_of_suit.num_rows))\n",
    "hand_of_4_1.append(card)\n",
    "hand_of_4_1\n"
   ]
  },
  {
   "cell_type": "markdown",
   "metadata": {},
   "source": [
    "# (For instructor use only) \n",
    "\n",
    "\n",
    "\n",
    "## Your Grade: "
   ]
  },
  {
   "cell_type": "code",
   "execution_count": null,
   "metadata": {},
   "outputs": [],
   "source": []
  }
 ],
 "metadata": {
  "kernelspec": {
   "display_name": "Python 3",
   "language": "python",
   "name": "python3"
  },
  "language_info": {
   "codemirror_mode": {
    "name": "ipython",
    "version": 3
   },
   "file_extension": ".py",
   "mimetype": "text/x-python",
   "name": "python",
   "nbconvert_exporter": "python",
   "pygments_lexer": "ipython3",
   "version": "3.6.6"
  }
 },
 "nbformat": 4,
 "nbformat_minor": 1
}
