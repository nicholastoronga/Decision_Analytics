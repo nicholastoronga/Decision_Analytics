{
 "cells": [
  {
   "cell_type": "markdown",
   "metadata": {},
   "source": [
    "# MGSC 404 Foundations of Decision Analytics \n",
    "\n",
    "## Last Name:  Toronga\n",
    "## First Name: Nicholas Tariro\n",
    "## Student ID: 260715831"
   ]
  },
  {
   "cell_type": "markdown",
   "metadata": {},
   "source": [
    "# Lab 3:  Table Manipulation and Visualization\n",
    "\n",
    "Please complete this notebook by filling in the cells provided. "
   ]
  },
  {
   "cell_type": "markdown",
   "metadata": {},
   "source": [
    "**Reading**: Textbook chapter [7](https://www.inferentialthinking.com/chapters/07/visualization.html)."
   ]
  },
  {
   "cell_type": "markdown",
   "metadata": {},
   "source": [
    "You **must** provide your answer in the designated space. No need to write explanations for your answers unless required. \n",
    "\n",
    "Deadline:\n",
    "\n",
    "This lab assignment is **due Thursday, September 27 at the beginging of class**. Please submit a printed **hard copy**. Late work will not be accepted. \n",
    "\n",
    "Tips: \n",
    "\n",
    "1. Directly sharing answers is not okay, but discussing problems with the course staff or with other students is encouraged. Refer to the policies to learn more about how to learn cooperatively. Also, questions that puzzle you are likely to have puzzled many Python learners in the past. **Try Googling your questions for answers from online**. In addtion, [this documentation](http://data8.org/datascience/) is a great reference for table operations.  \n",
    "\n",
    "2. You should start early so that you have time to get help if you're stuck. Drop-in office hours are Thuesday and Thursday 2:30pm-3:30pm in my office 524 Bronfman, right after our class meeting time. \n",
    "\n",
    "3. You will get a much smoother start if you play with the lecture notebook before starting. "
   ]
  },
  {
   "cell_type": "code",
   "execution_count": 169,
   "metadata": {},
   "outputs": [],
   "source": [
    "import tables\n",
    "import numpy as np\n",
    "from datascience import *\n",
    "\n",
    "\n",
    "# These lines do some fancy plotting magic\",\n",
    "import matplotlib\n",
    "%matplotlib inline\n",
    "import matplotlib.pyplot as plt\n",
    "import pandas as pd\n",
    "plots.style.use('fivethirtyeight')\n",
    "from datetime import *\n",
    "\n"
   ]
  },
  {
   "cell_type": "markdown",
   "metadata": {},
   "source": [
    "## 1. Differences between Universities, Part II\n"
   ]
  },
  {
   "cell_type": "markdown",
   "metadata": {},
   "source": [
    "**Question 1.** Suppose you're choosing a university to attend, and you'd like to *quantify* how *dissimilar* any two universities are.  You rate each university you're considering on several numerical traits.  You decide on a very detailed list of 1000 traits, and you measure all of them!  Some examples:\n",
    "\n",
    "* The cost to attend (per year)\n",
    "* The average Yelp review of nearby Thai restaurants\n",
    "* The USA Today ranking of the Medical school\n",
    "* The USA Today ranking of the Engineering school\n",
    "\n",
    "You decide that the dissimilarity between two universities is the *total* of the differences in their traits.  That is, the dissimilarity is:\n",
    "\n",
    "* the **sum** of\n",
    "* the absolute values of\n",
    "* the 1000 differences in their trait values.\n",
    "\n",
    "In the next cell, we've loaded arrays containing the 1000 trait values for Stanford and Berkeley.  Compute the dissimilarity (according to the above method) between Stanford and Berkeley.  Call your answer `dissimilarity`.  Use a single line of code to compute the answer.\n",
    "\n",
    "*Note:* The data we're using aren't real -- we made them up for this exercise, except for the cost-of-attendance numbers, which we estimated for a student from a median-income family living in California."
   ]
  },
  {
   "cell_type": "code",
   "execution_count": 2,
   "metadata": {},
   "outputs": [
    {
     "data": {
      "text/plain": [
       "14060.558701067917"
      ]
     },
     "execution_count": 2,
     "metadata": {},
     "output_type": "execute_result"
    }
   ],
   "source": [
    "stanford = Table.read_table(\"stanford.csv\").column(\"Trait value\")\n",
    "berkeley = Table.read_table(\"berkeley.csv\").column(\"Trait value\")\n",
    "\n",
    "\n",
    "dissimilarity = sum(abs(stanford-berkeley))\n",
    "dissimilarity\n",
    "\n",
    "\n"
   ]
  },
  {
   "cell_type": "markdown",
   "metadata": {},
   "source": [
    "**Question 2.** Why do we sum up the absolute values of the differences in trait values, rather than just summing up the differences?"
   ]
  },
  {
   "cell_type": "markdown",
   "metadata": {
    "deletable": false,
    "manual_grade": true,
    "manual_problem_id": "more_universities_3"
   },
   "source": [
    "*We want to know the magnitude of the difference regardless of direction. If we do not find the absolute value, some differences may cancel out and reduce the dissimilarity, in error.*\n",
    "\n"
   ]
  },
  {
   "cell_type": "markdown",
   "metadata": {},
   "source": [
    "##### Weighing the traits\n",
    "After computing dissimilarities between several schools, you notice a problem with your method: the scale of the traits matters a lot.\n",
    "\n",
    "Since schools cost tens of thousands of dollars to attend, the cost-to-attend trait is always a much bigger *number* than most other traits.  That makes it affect the dissimilarity a lot more than other traits.  Two schools that differ in cost-to-attend by \\$900, but are otherwise identical, get a dissimilarity of 900.  But two schools that differ in graduation rate by .9 (a huge difference!), but are otherwise identical, get a dissimilarity of only .9.\n",
    "\n",
    "One way to fix this problem is to assign different \"weights\" to different traits.  For example, we could fix the problem above by multiplying the difference in the cost-to-attend traits by .001, so that a difference of \\$900 in cost-to-attend results in a dissimilarity of $900 \\times .001$, or $.9$.\n",
    "\n",
    "Here's a revised method that does that for every trait:\n",
    "\n",
    "1. For each trait, subtract the two schools' trait values.\n",
    "2. Then take the absolute value of that difference.\n",
    "3. *Now multiply that absolute value by a trait-specific number, like .001 or 2.*\n",
    "4. Now sum the 1000 resulting numbers.\n",
    "\n",
    "**Question 3.** Suppose you've already decided on a weight for each trait.  These are loaded into an array called `weights` in the cell below.  `weights.item(0)` is the weight for the first trait, `weights.item(1)` is the weight for the second trait, and so on.  Use the revised method to compute a revised dissimilarity between Berkeley and Stanford.\n",
    "\n",
    "*Hint:* Using array arithmetic, your answer should be almost as short as in question 1."
   ]
  },
  {
   "cell_type": "code",
   "execution_count": 3,
   "metadata": {},
   "outputs": [
    {
     "data": {
      "text/plain": [
       "505.98313211458805"
      ]
     },
     "execution_count": 3,
     "metadata": {},
     "output_type": "execute_result"
    }
   ],
   "source": [
    "weights = Table.read_table(\"weights.csv\").column(\"Weight\")\n",
    "\n",
    "revised_dissimilarity = sum(abs(stanford-berkeley) * weights)\n",
    "revised_dissimilarity"
   ]
  },
  {
   "cell_type": "markdown",
   "metadata": {},
   "source": [
    "## 2. Unemployment\n"
   ]
  },
  {
   "cell_type": "markdown",
   "metadata": {},
   "source": [
    "The Federal Reserve Bank of St. Louis publishes data about jobs in the US.  Below we've loaded data on unemployment in the United States.  There are many ways of defining unemployment, and our dataset includes two notions of the unemployment rate:\n",
    "\n",
    "1. Among people who are able to work and are looking for a full-time job, the percentage who can't find a job.  This is called the Non-Employment Index, or NEI.\n",
    "2. Among people who are able to work and are looking for a full-time job, the percentage who can't find any job *or* are only working at a part-time job.  The latter group is called \"Part-Time for Economic Reasons\", so the acronym for this index is NEI-PTER.  (Economists are great at marketing.)\n",
    "\n",
    "The source of the data is [here](https://fred.stlouisfed.org/categories/33509)."
   ]
  },
  {
   "cell_type": "markdown",
   "metadata": {},
   "source": [
    "**Question 1.** The data are in a CSV file called `unemployment.csv`.  Load that file into a table called `unemployment`."
   ]
  },
  {
   "cell_type": "code",
   "execution_count": 4,
   "metadata": {},
   "outputs": [
    {
     "data": {
      "text/html": [
       "<table border=\"1\" class=\"dataframe\">\n",
       "    <thead>\n",
       "        <tr>\n",
       "            <th>Date</th> <th>NEI</th> <th>NEI-PTER</th>\n",
       "        </tr>\n",
       "    </thead>\n",
       "    <tbody>\n",
       "        <tr>\n",
       "            <td>1994-01-01</td> <td>10.0974</td> <td>11.172  </td>\n",
       "        </tr>\n",
       "        <tr>\n",
       "            <td>1994-04-01</td> <td>9.6239 </td> <td>10.7883 </td>\n",
       "        </tr>\n",
       "        <tr>\n",
       "            <td>1994-07-01</td> <td>9.3276 </td> <td>10.4831 </td>\n",
       "        </tr>\n",
       "        <tr>\n",
       "            <td>1994-10-01</td> <td>9.1071 </td> <td>10.2361 </td>\n",
       "        </tr>\n",
       "        <tr>\n",
       "            <td>1995-01-01</td> <td>8.9693 </td> <td>10.1832 </td>\n",
       "        </tr>\n",
       "        <tr>\n",
       "            <td>1995-04-01</td> <td>9.0314 </td> <td>10.1071 </td>\n",
       "        </tr>\n",
       "        <tr>\n",
       "            <td>1995-07-01</td> <td>8.9802 </td> <td>10.1084 </td>\n",
       "        </tr>\n",
       "        <tr>\n",
       "            <td>1995-10-01</td> <td>8.9932 </td> <td>10.1046 </td>\n",
       "        </tr>\n",
       "        <tr>\n",
       "            <td>1996-01-01</td> <td>9.0002 </td> <td>10.0531 </td>\n",
       "        </tr>\n",
       "        <tr>\n",
       "            <td>1996-04-01</td> <td>8.9038 </td> <td>9.9782  </td>\n",
       "        </tr>\n",
       "    </tbody>\n",
       "</table>\n",
       "<p>... (80 rows omitted)</p>"
      ],
      "text/plain": [
       "Date       | NEI     | NEI-PTER\n",
       "1994-01-01 | 10.0974 | 11.172\n",
       "1994-04-01 | 9.6239  | 10.7883\n",
       "1994-07-01 | 9.3276  | 10.4831\n",
       "1994-10-01 | 9.1071  | 10.2361\n",
       "1995-01-01 | 8.9693  | 10.1832\n",
       "1995-04-01 | 9.0314  | 10.1071\n",
       "1995-07-01 | 8.9802  | 10.1084\n",
       "1995-10-01 | 8.9932  | 10.1046\n",
       "1996-01-01 | 9.0002  | 10.0531\n",
       "1996-04-01 | 8.9038  | 9.9782\n",
       "... (80 rows omitted)"
      ]
     },
     "execution_count": 4,
     "metadata": {},
     "output_type": "execute_result"
    }
   ],
   "source": [
    "unemployment = Table.read_table(\"unemployment.csv\")\n",
    "unemployment"
   ]
  },
  {
   "cell_type": "markdown",
   "metadata": {},
   "source": [
    "**Question 2.** Sort the data in decreasing order by NEI, naming the sorted table `by_nei`.  Create another table called `by_nei_pter` that's sorted in decreasing order by NEI-PTER instead."
   ]
  },
  {
   "cell_type": "code",
   "execution_count": 159,
   "metadata": {},
   "outputs": [
    {
     "data": {
      "text/html": [
       "<table border=\"1\" class=\"dataframe\">\n",
       "    <thead>\n",
       "        <tr>\n",
       "            <th>Date</th> <th>NEI</th> <th>NEI-PTER</th>\n",
       "        </tr>\n",
       "    </thead>\n",
       "    <tbody>\n",
       "        <tr>\n",
       "            <td>2009-10-01</td> <td>10.9698</td> <td>12.8557 </td>\n",
       "        </tr>\n",
       "        <tr>\n",
       "            <td>2009-07-01</td> <td>10.8089</td> <td>12.7404 </td>\n",
       "        </tr>\n",
       "        <tr>\n",
       "            <td>2010-01-01</td> <td>10.9054</td> <td>12.7311 </td>\n",
       "        </tr>\n",
       "        <tr>\n",
       "            <td>2010-04-01</td> <td>10.6597</td> <td>12.5664 </td>\n",
       "        </tr>\n",
       "        <tr>\n",
       "            <td>2009-04-01</td> <td>10.7082</td> <td>12.5497 </td>\n",
       "        </tr>\n",
       "        <tr>\n",
       "            <td>2010-10-01</td> <td>10.5856</td> <td>12.4329 </td>\n",
       "        </tr>\n",
       "        <tr>\n",
       "            <td>2010-07-01</td> <td>10.5521</td> <td>12.3897 </td>\n",
       "        </tr>\n",
       "        <tr>\n",
       "            <td>2011-01-01</td> <td>10.5024</td> <td>12.3017 </td>\n",
       "        </tr>\n",
       "        <tr>\n",
       "            <td>2011-07-01</td> <td>10.4856</td> <td>12.2507 </td>\n",
       "        </tr>\n",
       "        <tr>\n",
       "            <td>2011-04-01</td> <td>10.4409</td> <td>12.247  </td>\n",
       "        </tr>\n",
       "    </tbody>\n",
       "</table>\n",
       "<p>... (80 rows omitted)</p>"
      ],
      "text/plain": [
       "Date       | NEI     | NEI-PTER\n",
       "2009-10-01 | 10.9698 | 12.8557\n",
       "2009-07-01 | 10.8089 | 12.7404\n",
       "2010-01-01 | 10.9054 | 12.7311\n",
       "2010-04-01 | 10.6597 | 12.5664\n",
       "2009-04-01 | 10.7082 | 12.5497\n",
       "2010-10-01 | 10.5856 | 12.4329\n",
       "2010-07-01 | 10.5521 | 12.3897\n",
       "2011-01-01 | 10.5024 | 12.3017\n",
       "2011-07-01 | 10.4856 | 12.2507\n",
       "2011-04-01 | 10.4409 | 12.247\n",
       "... (80 rows omitted)"
      ]
     },
     "execution_count": 159,
     "metadata": {},
     "output_type": "execute_result"
    }
   ],
   "source": [
    "by_nei = unemployment.sort(\"NEI\", descending = True)\n",
    "by_nei_pter = unemployment.sort(\"NEI-PTER\", descending= True)\n",
    "#by_nei.show()\n",
    "by_nei_pter"
   ]
  },
  {
   "cell_type": "markdown",
   "metadata": {},
   "source": [
    "**Question 3.** Use `take` to make a table containing the data for the 10 quarters when NEI was greatest.  Call that table `greatest_nei`."
   ]
  },
  {
   "cell_type": "code",
   "execution_count": 163,
   "metadata": {},
   "outputs": [
    {
     "data": {
      "text/html": [
       "<table border=\"1\" class=\"dataframe\">\n",
       "    <thead>\n",
       "        <tr>\n",
       "            <th>Date</th> <th>NEI</th> <th>NEI-PTER</th>\n",
       "        </tr>\n",
       "    </thead>\n",
       "    <tbody>\n",
       "        <tr>\n",
       "            <td>2010-01-01</td> <td>10.9054</td> <td>12.7311 </td>\n",
       "        </tr>\n",
       "        <tr>\n",
       "            <td>2009-07-01</td> <td>10.8089</td> <td>12.7404 </td>\n",
       "        </tr>\n",
       "        <tr>\n",
       "            <td>2009-04-01</td> <td>10.7082</td> <td>12.5497 </td>\n",
       "        </tr>\n",
       "        <tr>\n",
       "            <td>2010-04-01</td> <td>10.6597</td> <td>12.5664 </td>\n",
       "        </tr>\n",
       "        <tr>\n",
       "            <td>2010-10-01</td> <td>10.5856</td> <td>12.4329 </td>\n",
       "        </tr>\n",
       "        <tr>\n",
       "            <td>2010-07-01</td> <td>10.5521</td> <td>12.3897 </td>\n",
       "        </tr>\n",
       "        <tr>\n",
       "            <td>2011-01-01</td> <td>10.5024</td> <td>12.3017 </td>\n",
       "        </tr>\n",
       "        <tr>\n",
       "            <td>2011-07-01</td> <td>10.4856</td> <td>12.2507 </td>\n",
       "        </tr>\n",
       "        <tr>\n",
       "            <td>2011-04-01</td> <td>10.4409</td> <td>12.247  </td>\n",
       "        </tr>\n",
       "        <tr>\n",
       "            <td>2011-10-01</td> <td>10.3287</td> <td>12.1214 </td>\n",
       "        </tr>\n",
       "    </tbody>\n",
       "</table>"
      ],
      "text/plain": [
       "Date       | NEI     | NEI-PTER\n",
       "2010-01-01 | 10.9054 | 12.7311\n",
       "2009-07-01 | 10.8089 | 12.7404\n",
       "2009-04-01 | 10.7082 | 12.5497\n",
       "2010-04-01 | 10.6597 | 12.5664\n",
       "2010-10-01 | 10.5856 | 12.4329\n",
       "2010-07-01 | 10.5521 | 12.3897\n",
       "2011-01-01 | 10.5024 | 12.3017\n",
       "2011-07-01 | 10.4856 | 12.2507\n",
       "2011-04-01 | 10.4409 | 12.247\n",
       "2011-10-01 | 10.3287 | 12.1214"
      ]
     },
     "execution_count": 163,
     "metadata": {},
     "output_type": "execute_result"
    }
   ],
   "source": [
    "greatest_nei = by_nei.take(np.arange(1,11,1))\n",
    "greatest_nei\n"
   ]
  },
  {
   "cell_type": "markdown",
   "metadata": {},
   "source": [
    "**Question 4.** It's believed that many people became PTER (recall: \"Part-Time for Economic Reasons\") in the \"Great Recession\" of 2008-2009.  NEI-PTER is the percentage of people who are unemployed (and counted in the NEI) plus the percentage of people who are PTER.  Compute an array containing the percentage of people who were PTER in each quarter.  (The first element of the array should correspond to the first row of `unemployment`, and so on.)\n",
    "\n",
    "*Note:* Use the original `unemployment` table for this."
   ]
  },
  {
   "cell_type": "code",
   "execution_count": 164,
   "metadata": {},
   "outputs": [
    {
     "data": {
      "text/plain": [
       "array([1.0746, 1.1644, 1.1555, 1.129 , 1.2139, 1.0757, 1.1282, 1.1114,\n",
       "       1.0529, 1.0744, 1.1004, 1.0747, 1.0705, 1.0455, 1.008 , 0.9734,\n",
       "       0.9753, 0.8931, 0.9451, 0.8367, 0.8208, 0.8105, 0.8248, 0.7578,\n",
       "       0.7251, 0.7445, 0.7543, 0.7423, 0.7399, 0.7687, 0.8418, 0.9923,\n",
       "       0.9181, 0.9629, 0.9703, 0.9575, 1.0333, 1.0781, 1.0675, 1.0354,\n",
       "       1.0601, 1.01  , 1.0042, 1.0368, 0.9704, 0.923 , 0.9759, 0.93  ,\n",
       "       0.889 , 0.821 , 0.9409, 0.955 , 0.898 , 0.8948, 0.9523, 0.9579,\n",
       "       1.0149, 1.0762, 1.2873, 1.4335, 1.7446, 1.8415, 1.9315, 1.8859,\n",
       "       1.8257, 1.9067, 1.8376, 1.8473, 1.7993, 1.8061, 1.7651, 1.7927,\n",
       "       1.7286, 1.6387, 1.6808, 1.6805, 1.6629, 1.6253, 1.6477, 1.6298,\n",
       "       1.4796, 1.5131, 1.4866, 1.4345, 1.3675, 1.3097, 1.2319, 1.1735,\n",
       "       1.1844, 1.1746])"
      ]
     },
     "execution_count": 164,
     "metadata": {},
     "output_type": "execute_result"
    }
   ],
   "source": [
    "pter = unemployment[2]-unemployment[1]\n",
    "pter"
   ]
  },
  {
   "cell_type": "markdown",
   "metadata": {},
   "source": [
    "**Question 5.** Add `pter` as a column to `unemployment` (named \"PTER\") and sort the resulting table by that column in decreasing order.  Call the table `by_pter`.\n",
    "\n",
    "Try to do this with a single line of code, if you can."
   ]
  },
  {
   "cell_type": "code",
   "execution_count": 166,
   "metadata": {},
   "outputs": [
    {
     "data": {
      "text/html": [
       "<table border=\"1\" class=\"dataframe\">\n",
       "    <thead>\n",
       "        <tr>\n",
       "            <th>Date</th> <th>NEI</th> <th>NEI-PTER</th> <th>PTER</th>\n",
       "        </tr>\n",
       "    </thead>\n",
       "    <tbody>\n",
       "        <tr>\n",
       "            <td>2009-07-01</td> <td>10.8089</td> <td>12.7404 </td> <td>1.9315</td>\n",
       "        </tr>\n",
       "        <tr>\n",
       "            <td>2010-04-01</td> <td>10.6597</td> <td>12.5664 </td> <td>1.9067</td>\n",
       "        </tr>\n",
       "        <tr>\n",
       "            <td>2009-10-01</td> <td>10.9698</td> <td>12.8557 </td> <td>1.8859</td>\n",
       "        </tr>\n",
       "        <tr>\n",
       "            <td>2010-10-01</td> <td>10.5856</td> <td>12.4329 </td> <td>1.8473</td>\n",
       "        </tr>\n",
       "        <tr>\n",
       "            <td>2009-04-01</td> <td>10.7082</td> <td>12.5497 </td> <td>1.8415</td>\n",
       "        </tr>\n",
       "        <tr>\n",
       "            <td>2010-07-01</td> <td>10.5521</td> <td>12.3897 </td> <td>1.8376</td>\n",
       "        </tr>\n",
       "        <tr>\n",
       "            <td>2010-01-01</td> <td>10.9054</td> <td>12.7311 </td> <td>1.8257</td>\n",
       "        </tr>\n",
       "        <tr>\n",
       "            <td>2011-04-01</td> <td>10.4409</td> <td>12.247  </td> <td>1.8061</td>\n",
       "        </tr>\n",
       "        <tr>\n",
       "            <td>2011-01-01</td> <td>10.5024</td> <td>12.3017 </td> <td>1.7993</td>\n",
       "        </tr>\n",
       "        <tr>\n",
       "            <td>2011-10-01</td> <td>10.3287</td> <td>12.1214 </td> <td>1.7927</td>\n",
       "        </tr>\n",
       "    </tbody>\n",
       "</table>\n",
       "<p>... (80 rows omitted)</p>"
      ],
      "text/plain": [
       "Date       | NEI     | NEI-PTER | PTER\n",
       "2009-07-01 | 10.8089 | 12.7404  | 1.9315\n",
       "2010-04-01 | 10.6597 | 12.5664  | 1.9067\n",
       "2009-10-01 | 10.9698 | 12.8557  | 1.8859\n",
       "2010-10-01 | 10.5856 | 12.4329  | 1.8473\n",
       "2009-04-01 | 10.7082 | 12.5497  | 1.8415\n",
       "2010-07-01 | 10.5521 | 12.3897  | 1.8376\n",
       "2010-01-01 | 10.9054 | 12.7311  | 1.8257\n",
       "2011-04-01 | 10.4409 | 12.247   | 1.8061\n",
       "2011-01-01 | 10.5024 | 12.3017  | 1.7993\n",
       "2011-10-01 | 10.3287 | 12.1214  | 1.7927\n",
       "... (80 rows omitted)"
      ]
     },
     "execution_count": 166,
     "metadata": {},
     "output_type": "execute_result"
    }
   ],
   "source": [
    "by_pter = unemployment.with_columns(\"PTER\", pter).sort(\"PTER\", descending = True)\n",
    "by_pter"
   ]
  },
  {
   "cell_type": "markdown",
   "metadata": {},
   "source": [
    "**Question 6.** Create a line plot of the PTER over time. To do this, first add the `year` array and the `pter` array to the `unemployment` table; label these columns \"Year\" and \"PTER\", respectively (\"Year\" has elements such as 1998.25, 1999.0). Then, generate a line plot using one of the table methods you've learned in class."
   ]
  },
  {
   "cell_type": "code",
   "execution_count": 184,
   "metadata": {},
   "outputs": [
    {
     "data": {
      "text/plain": [
       "Text(0,0.5,'PTER')"
      ]
     },
     "execution_count": 184,
     "metadata": {},
     "output_type": "execute_result"
    },
    {
     "data": {
      "image/png": "[encoded data removed]",
      "text/plain": [
       "<Figure size 2160x1080 with 1 Axes>"
      ]
     },
     "metadata": {},
     "output_type": "display_data"
    }
   ],
   "source": [
    "#Year = datetime.strptime(by_pter.column(0),'%Y-%d-%m').strftime('%d.%m.%Y')\n",
    "unemployment = unemployment.with_columns(\"PTER\", pter)\n",
    "plt.rcParams['figure.figsize'] = (30,15)\n",
    "plt.plot(unemployment.column(0), unemployment.column(3))\n",
    "plt.xticks(np.arange(0,90,step=7), rotation=90)\n",
    "plt.title(\"Year vs PTER from 1994 to 2015 \")\n",
    "plt.xlabel(\"Years\")\n",
    "plt.ylabel(\"PTER\")\n",
    "\n",
    "#I didn't see the point of changing year to the format mentioned above since we can still plot with the Date column given \n",
    "#in the table\n"
   ]
  },
  {
   "cell_type": "markdown",
   "metadata": {},
   "source": [
    "**Question 7.** Were PTER rates high during or directly after the Great Recession (that is to say, were PTER rates particularly high in the years 2008 through 2011 or so)? Assign highPTER to `True` if you think PTER rates were high in this period, and `False` if you think they weren't. "
   ]
  },
  {
   "cell_type": "code",
   "execution_count": 185,
   "metadata": {},
   "outputs": [],
   "source": [
    "highPTER = True"
   ]
  },
  {
   "cell_type": "markdown",
   "metadata": {},
   "source": [
    "## 3. Birth Rates\n"
   ]
  },
  {
   "cell_type": "markdown",
   "metadata": {},
   "source": [
    "The following table gives census-based population estimates for each state of the United States on July 1, 2015 and July 1, 2016. The last four columns describe the components of the estimated change in population during this time interval. *For all questions below, assume that the word \"states\" refers to all 52 rows including Puerto Rico & the District of Columbia.*"
   ]
  },
  {
   "cell_type": "code",
   "execution_count": 10,
   "metadata": {},
   "outputs": [
    {
     "data": {
      "text/html": [
       "<table border=\"1\" class=\"dataframe\">\n",
       "    <thead>\n",
       "        <tr>\n",
       "            <th>REGION</th> <th>NAME</th> <th>2015</th> <th>2016</th> <th>BIRTHS</th> <th>DEATHS</th> <th>MIGRATION</th> <th>OTHER</th>\n",
       "        </tr>\n",
       "    </thead>\n",
       "    <tbody>\n",
       "        <tr>\n",
       "            <td>3     </td> <td>Alabama             </td> <td>4,853,875 </td> <td>4,863,300 </td> <td>58,556 </td> <td>52,405 </td> <td>3,874    </td> <td>-600  </td>\n",
       "        </tr>\n",
       "        <tr>\n",
       "            <td>4     </td> <td>Alaska              </td> <td>737,709   </td> <td>741,894   </td> <td>11,255 </td> <td>4,511  </td> <td>-2,557   </td> <td>-2    </td>\n",
       "        </tr>\n",
       "        <tr>\n",
       "            <td>4     </td> <td>Arizona             </td> <td>6,817,565 </td> <td>6,931,071 </td> <td>87,204 </td> <td>56,564 </td> <td>76,405   </td> <td>6,461 </td>\n",
       "        </tr>\n",
       "        <tr>\n",
       "            <td>3     </td> <td>Arkansas            </td> <td>2,977,853 </td> <td>2,988,248 </td> <td>37,936 </td> <td>30,581 </td> <td>3,530    </td> <td>-490  </td>\n",
       "        </tr>\n",
       "        <tr>\n",
       "            <td>4     </td> <td>California          </td> <td>38,993,940</td> <td>39,250,017</td> <td>502,848</td> <td>273,850</td> <td>33,530   </td> <td>-6,451</td>\n",
       "        </tr>\n",
       "        <tr>\n",
       "            <td>4     </td> <td>Colorado            </td> <td>5,448,819 </td> <td>5,540,545 </td> <td>67,453 </td> <td>37,121 </td> <td>60,773   </td> <td>621   </td>\n",
       "        </tr>\n",
       "        <tr>\n",
       "            <td>1     </td> <td>Connecticut         </td> <td>3,584,730 </td> <td>3,576,452 </td> <td>35,848 </td> <td>30,638 </td> <td>-12,822  </td> <td>-666  </td>\n",
       "        </tr>\n",
       "        <tr>\n",
       "            <td>3     </td> <td>Delaware            </td> <td>944,076   </td> <td>952,065   </td> <td>10,922 </td> <td>8,945  </td> <td>5,583    </td> <td>429   </td>\n",
       "        </tr>\n",
       "        <tr>\n",
       "            <td>3     </td> <td>District of Columbia</td> <td>670,377   </td> <td>681,170   </td> <td>9,779  </td> <td>5,455  </td> <td>6,392    </td> <td>77    </td>\n",
       "        </tr>\n",
       "        <tr>\n",
       "            <td>3     </td> <td>Florida             </td> <td>20,244,914</td> <td>20,612,439</td> <td>222,793</td> <td>201,485</td> <td>325,986  </td> <td>20,231</td>\n",
       "        </tr>\n",
       "        <tr>\n",
       "            <td>3     </td> <td>Georgia             </td> <td>10,199,398</td> <td>10,310,371</td> <td>130,862</td> <td>81,525 </td> <td>60,612   </td> <td>1,024 </td>\n",
       "        </tr>\n",
       "        <tr>\n",
       "            <td>4     </td> <td>Hawaii              </td> <td>1,425,157 </td> <td>1,428,557 </td> <td>18,507 </td> <td>12,237 </td> <td>-2,583   </td> <td>-287  </td>\n",
       "        </tr>\n",
       "        <tr>\n",
       "            <td>4     </td> <td>Idaho               </td> <td>1,652,828 </td> <td>1,683,140 </td> <td>22,792 </td> <td>12,496 </td> <td>18,869   </td> <td>1,147 </td>\n",
       "        </tr>\n",
       "        <tr>\n",
       "            <td>2     </td> <td>Illinois            </td> <td>12,839,047</td> <td>12,801,539</td> <td>155,238</td> <td>108,040</td> <td>-83,210  </td> <td>-1,496</td>\n",
       "        </tr>\n",
       "        <tr>\n",
       "            <td>2     </td> <td>Indiana             </td> <td>6,612,768 </td> <td>6,633,053 </td> <td>83,267 </td> <td>60,909 </td> <td>-1,083   </td> <td>-990  </td>\n",
       "        </tr>\n",
       "        <tr>\n",
       "            <td>2     </td> <td>Iowa                </td> <td>3,121,997 </td> <td>3,134,693 </td> <td>39,349 </td> <td>28,739 </td> <td>2,944    </td> <td>-858  </td>\n",
       "        </tr>\n",
       "        <tr>\n",
       "            <td>2     </td> <td>Kansas              </td> <td>2,906,721 </td> <td>2,907,289 </td> <td>38,702 </td> <td>25,128 </td> <td>-12,744  </td> <td>-262  </td>\n",
       "        </tr>\n",
       "        <tr>\n",
       "            <td>3     </td> <td>Kentucky            </td> <td>4,424,611 </td> <td>4,436,974 </td> <td>55,198 </td> <td>44,883 </td> <td>3,305    </td> <td>-1,257</td>\n",
       "        </tr>\n",
       "        <tr>\n",
       "            <td>3     </td> <td>Louisiana           </td> <td>4,668,960 </td> <td>4,681,666 </td> <td>63,570 </td> <td>45,030 </td> <td>-5,020   </td> <td>-814  </td>\n",
       "        </tr>\n",
       "        <tr>\n",
       "            <td>1     </td> <td>Maine               </td> <td>1,329,453 </td> <td>1,331,479 </td> <td>12,542 </td> <td>13,842 </td> <td>3,954    </td> <td>-628  </td>\n",
       "        </tr>\n",
       "        <tr>\n",
       "            <td>3     </td> <td>Maryland            </td> <td>5,994,983 </td> <td>6,016,447 </td> <td>73,321 </td> <td>50,036 </td> <td>176      </td> <td>-1,997</td>\n",
       "        </tr>\n",
       "        <tr>\n",
       "            <td>1     </td> <td>Massachusetts       </td> <td>6,784,240 </td> <td>6,811,779 </td> <td>72,024 </td> <td>57,563 </td> <td>15,292   </td> <td>-2,214</td>\n",
       "        </tr>\n",
       "        <tr>\n",
       "            <td>2     </td> <td>Michigan            </td> <td>9,917,715 </td> <td>9,928,300 </td> <td>113,437</td> <td>94,353 </td> <td>-5,328   </td> <td>-3,171</td>\n",
       "        </tr>\n",
       "        <tr>\n",
       "            <td>2     </td> <td>Minnesota           </td> <td>5,482,435 </td> <td>5,519,952 </td> <td>69,190 </td> <td>41,938 </td> <td>11,882   </td> <td>-1,617</td>\n",
       "        </tr>\n",
       "        <tr>\n",
       "            <td>3     </td> <td>Mississippi         </td> <td>2,989,390 </td> <td>2,988,726 </td> <td>37,880 </td> <td>31,006 </td> <td>-7,467   </td> <td>-71   </td>\n",
       "        </tr>\n",
       "        <tr>\n",
       "            <td>2     </td> <td>Missouri            </td> <td>6,076,204 </td> <td>6,093,000 </td> <td>74,423 </td> <td>58,723 </td> <td>2,163    </td> <td>-1,067</td>\n",
       "        </tr>\n",
       "        <tr>\n",
       "            <td>4     </td> <td>Montana             </td> <td>1,032,073 </td> <td>1,042,520 </td> <td>12,431 </td> <td>9,597  </td> <td>7,422    </td> <td>191   </td>\n",
       "        </tr>\n",
       "        <tr>\n",
       "            <td>2     </td> <td>Nebraska            </td> <td>1,893,765 </td> <td>1,907,116 </td> <td>26,553 </td> <td>15,355 </td> <td>2,043    </td> <td>110   </td>\n",
       "        </tr>\n",
       "        <tr>\n",
       "            <td>4     </td> <td>Nevada              </td> <td>2,883,758 </td> <td>2,940,058 </td> <td>36,462 </td> <td>23,771 </td> <td>41,967   </td> <td>1,642 </td>\n",
       "        </tr>\n",
       "        <tr>\n",
       "            <td>1     </td> <td>New Hampshire       </td> <td>1,330,111 </td> <td>1,334,795 </td> <td>12,274 </td> <td>11,572 </td> <td>4,362    </td> <td>-380  </td>\n",
       "        </tr>\n",
       "        <tr>\n",
       "            <td>1     </td> <td>New Jersey          </td> <td>8,935,421 </td> <td>8,944,469 </td> <td>102,166</td> <td>74,762 </td> <td>-16,704  </td> <td>-1,652</td>\n",
       "        </tr>\n",
       "        <tr>\n",
       "            <td>4     </td> <td>New Mexico          </td> <td>2,080,328 </td> <td>2,081,015 </td> <td>25,491 </td> <td>17,799 </td> <td>-7,111   </td> <td>106   </td>\n",
       "        </tr>\n",
       "        <tr>\n",
       "            <td>1     </td> <td>New York            </td> <td>19,747,183</td> <td>19,745,289</td> <td>236,507</td> <td>160,713</td> <td>-72,889  </td> <td>-4,799</td>\n",
       "        </tr>\n",
       "        <tr>\n",
       "            <td>3     </td> <td>North Carolina      </td> <td>10,035,186</td> <td>10,146,788</td> <td>120,778</td> <td>89,721 </td> <td>80,078   </td> <td>467   </td>\n",
       "        </tr>\n",
       "        <tr>\n",
       "            <td>2     </td> <td>North Dakota        </td> <td>756,835   </td> <td>757,952   </td> <td>11,824 </td> <td>6,172  </td> <td>-4,684   </td> <td>149   </td>\n",
       "        </tr>\n",
       "        <tr>\n",
       "            <td>2     </td> <td>Ohio                </td> <td>11,605,090</td> <td>11,614,373</td> <td>138,012</td> <td>115,938</td> <td>-7,967   </td> <td>-4,824</td>\n",
       "        </tr>\n",
       "        <tr>\n",
       "            <td>3     </td> <td>Oklahoma            </td> <td>3,907,414 </td> <td>3,923,561 </td> <td>53,175 </td> <td>39,588 </td> <td>2,894    </td> <td>-334  </td>\n",
       "        </tr>\n",
       "        <tr>\n",
       "            <td>4     </td> <td>Oregon              </td> <td>4,024,634 </td> <td>4,093,465 </td> <td>46,198 </td> <td>35,371 </td> <td>56,972   </td> <td>1,032 </td>\n",
       "        </tr>\n",
       "        <tr>\n",
       "            <td>1     </td> <td>Pennsylvania        </td> <td>12,791,904</td> <td>12,784,227</td> <td>140,897</td> <td>133,053</td> <td>-10,887  </td> <td>-4,634</td>\n",
       "        </tr>\n",
       "        <tr>\n",
       "            <td>1     </td> <td>Rhode Island        </td> <td>1,055,607 </td> <td>1,056,426 </td> <td>10,770 </td> <td>9,849  </td> <td>419      </td> <td>-521  </td>\n",
       "        </tr>\n",
       "        <tr>\n",
       "            <td>3     </td> <td>South Carolina      </td> <td>4,894,834 </td> <td>4,961,119 </td> <td>57,926 </td> <td>47,514 </td> <td>52,844   </td> <td>3,029 </td>\n",
       "        </tr>\n",
       "        <tr>\n",
       "            <td>2     </td> <td>South Dakota        </td> <td>857,919   </td> <td>865,454   </td> <td>12,114 </td> <td>7,296  </td> <td>2,573    </td> <td>144   </td>\n",
       "        </tr>\n",
       "        <tr>\n",
       "            <td>3     </td> <td>Tennessee           </td> <td>6,595,056 </td> <td>6,651,194 </td> <td>81,443 </td> <td>65,454 </td> <td>39,959   </td> <td>190   </td>\n",
       "        </tr>\n",
       "        <tr>\n",
       "            <td>3     </td> <td>Texas               </td> <td>27,429,639</td> <td>27,862,596</td> <td>404,533</td> <td>192,814</td> <td>217,542  </td> <td>3,696 </td>\n",
       "        </tr>\n",
       "        <tr>\n",
       "            <td>4     </td> <td>Utah                </td> <td>2,990,632 </td> <td>3,051,217 </td> <td>51,444 </td> <td>16,447 </td> <td>25,412   </td> <td>176   </td>\n",
       "        </tr>\n",
       "        <tr>\n",
       "            <td>1     </td> <td>Vermont             </td> <td>626,088   </td> <td>624,594   </td> <td>6,035  </td> <td>5,547  </td> <td>-1,910   </td> <td>-72   </td>\n",
       "        </tr>\n",
       "        <tr>\n",
       "            <td>3     </td> <td>Virginia            </td> <td>8,367,587 </td> <td>8,411,808 </td> <td>102,366</td> <td>66,558 </td> <td>7,202    </td> <td>1,211 </td>\n",
       "        </tr>\n",
       "        <tr>\n",
       "            <td>4     </td> <td>Washington          </td> <td>7,160,290 </td> <td>7,288,000 </td> <td>89,982 </td> <td>55,979 </td> <td>91,981   </td> <td>1,726 </td>\n",
       "        </tr>\n",
       "        <tr>\n",
       "            <td>3     </td> <td>West Virginia       </td> <td>1,841,053 </td> <td>1,831,102 </td> <td>19,799 </td> <td>22,479 </td> <td>-6,583   </td> <td>-688  </td>\n",
       "        </tr>\n",
       "        <tr>\n",
       "            <td>2     </td> <td>Wisconsin           </td> <td>5,767,891 </td> <td>5,778,708 </td> <td>66,079 </td> <td>49,823 </td> <td>-4,405   </td> <td>-1,034</td>\n",
       "        </tr>\n",
       "        <tr>\n",
       "            <td>4     </td> <td>Wyoming             </td> <td>586,555   </td> <td>585,501   </td> <td>7,590  </td> <td>4,838  </td> <td>-3,823   </td> <td>17    </td>\n",
       "        </tr>\n",
       "        <tr>\n",
       "            <td>X     </td> <td>Puerto Rico         </td> <td>3,473,181 </td> <td>3,411,307 </td> <td>30,991 </td> <td>28,108 </td> <td>-64,757  </td> <td>0     </td>\n",
       "        </tr>\n",
       "    </tbody>\n",
       "</table>"
      ],
      "text/plain": [
       "<IPython.core.display.HTML object>"
      ]
     },
     "metadata": {},
     "output_type": "display_data"
    }
   ],
   "source": [
    "# Don't change this cell; just run it.\n",
    "# From http://www2.census.gov/programs-surveys/popest/datasets/2010-2016/national/totals/nst-est2016-alldata.csv\n",
    "# See http://www2.census.gov/programs-surveys/popest/datasets/2010-2015/national/totals/nst-est2015-alldata.pdf\n",
    "#     for column descriptions. (As of Feb 2017, no descriptions were posted for 2010-2016.)\n",
    "pop = Table.read_table('nst-est2016-alldata.csv').where('SUMLEV', 40).select([1, 4, 12, 13, 27, 34, 62, 69])\n",
    "pop = pop.relabeled(2, '2015').relabeled(3, '2016')\n",
    "pop = pop.relabeled(4, 'BIRTHS').relabeled(5, 'DEATHS')\n",
    "pop = pop.relabeled(6, 'MIGRATION').relabeled(7, 'OTHER')\n",
    "popn = pop.set_format([2, 3, 4, 5, 6, 7], NumberFormatter(decimals=0))\n",
    "popn.show()\n",
    "#file = pd.read_csv(\"nst-est2016-alldata.csv\")\n",
    "#file.loc\n",
    "\n"
   ]
  },
  {
   "cell_type": "markdown",
   "metadata": {},
   "source": [
    "**Question 1.** Assign `us_birth_rate` to the total US annual birth rate during this time interval. The annual birth rate for a year-long period is the number of births in that period as a proportion of the population at the start of the period."
   ]
  },
  {
   "cell_type": "code",
   "execution_count": 25,
   "metadata": {},
   "outputs": [
    {
     "data": {
      "text/plain": [
       "0.012358536498646102"
      ]
     },
     "execution_count": 25,
     "metadata": {},
     "output_type": "execute_result"
    }
   ],
   "source": [
    "us_birth_rate = sum(popn.column(4))/sum(popn.column(2))\n",
    "#in percentage\n",
    "us_birth_rate\n",
    "\n"
   ]
  },
  {
   "cell_type": "markdown",
   "metadata": {},
   "source": [
    "**Question 2.** Assign `fastest_growth` to an array of the names of the five states with the fastest population growth rates in *descending order of growth rate*. First, create a new version of the `pop` table, called `growth_rates`, which includes a column with the growth rate of each state. Making intermediate tables can improve the readability of the code and make it easier to follow when revisting at a later time."
   ]
  },
  {
   "cell_type": "code",
   "execution_count": 38,
   "metadata": {},
   "outputs": [
    {
     "data": {
      "text/html": [
       "<table border=\"1\" class=\"dataframe\">\n",
       "    <thead>\n",
       "        <tr>\n",
       "            <th>REGION</th> <th>NAME</th> <th>2015</th> <th>2016</th> <th>BIRTHS</th> <th>DEATHS</th> <th>MIGRATION</th> <th>OTHER</th> <th>growth_rates</th>\n",
       "        </tr>\n",
       "    </thead>\n",
       "    <tbody>\n",
       "        <tr>\n",
       "            <td>4     </td> <td>Utah      </td> <td>2,990,632 </td> <td>3,051,217 </td> <td>51,444 </td> <td>16,447 </td> <td>25,412   </td> <td>176   </td> <td>2.02583     </td>\n",
       "        </tr>\n",
       "        <tr>\n",
       "            <td>4     </td> <td>Nevada    </td> <td>2,883,758 </td> <td>2,940,058 </td> <td>36,462 </td> <td>23,771 </td> <td>41,967   </td> <td>1,642 </td> <td>1.95231     </td>\n",
       "        </tr>\n",
       "        <tr>\n",
       "            <td>4     </td> <td>Idaho     </td> <td>1,652,828 </td> <td>1,683,140 </td> <td>22,792 </td> <td>12,496 </td> <td>18,869   </td> <td>1,147 </td> <td>1.83395     </td>\n",
       "        </tr>\n",
       "        <tr>\n",
       "            <td>3     </td> <td>Florida   </td> <td>20,244,914</td> <td>20,612,439</td> <td>222,793</td> <td>201,485</td> <td>325,986  </td> <td>20,231</td> <td>1.81539     </td>\n",
       "        </tr>\n",
       "        <tr>\n",
       "            <td>4     </td> <td>Washington</td> <td>7,160,290 </td> <td>7,288,000 </td> <td>89,982 </td> <td>55,979 </td> <td>91,981   </td> <td>1,726 </td> <td>1.78359     </td>\n",
       "        </tr>\n",
       "    </tbody>\n",
       "</table>\n",
       "<p>... (47 rows omitted)</p>"
      ],
      "text/plain": [
       "<IPython.core.display.HTML object>"
      ]
     },
     "metadata": {},
     "output_type": "display_data"
    },
    {
     "data": {
      "text/plain": [
       "array(['Utah', 'Nevada', 'Idaho', 'Florida', 'Washington'], dtype='<U10')"
      ]
     },
     "execution_count": 38,
     "metadata": {},
     "output_type": "execute_result"
    }
   ],
   "source": [
    "growth = ((popn.column(3)- popn.column(2))/pop.column(2))*100\n",
    "growth_rates = popn.with_columns(\"growth_rates\", growth).sort(\"growth_rates\", descending = True).show(5)\n",
    "fastest_growth = np.array((\"Utah\", \"Nevada\", \"Idaho\", \"Florida\", \"Washington\"))\n",
    "fastest_growth\n",
    "\n"
   ]
  },
  {
   "cell_type": "markdown",
   "metadata": {},
   "source": [
    "**Question 3.** Assign `movers` to the number of states for which the absolute annual rate of migration was higher than 1%. The annual rate of migration for a year-long period is the net number of migrations (in and out) as a proportion of the population at the start of the period. The `MIGRATION` column contains estimated annual net migration counts by state."
   ]
  },
  {
   "cell_type": "code",
   "execution_count": 124,
   "metadata": {},
   "outputs": [
    {
     "data": {
      "text/plain": [
       "9"
      ]
     },
     "execution_count": 124,
     "metadata": {},
     "output_type": "execute_result"
    }
   ],
   "source": [
    "migration_rates = abs((popn.column(6)/popn.column(2))*100)\n",
    "popn = popn.with_columns(\"migration_rates\", migration_rates)\n",
    "movers_table = popn.where(\"migration_rates\", are.above(1))\n",
    "movers = movers_table.num_rows\n",
    "movers\n",
    "\n",
    "\n"
   ]
  },
  {
   "cell_type": "markdown",
   "metadata": {},
   "source": [
    "**Question 4.** Assign `west_births` to the total number of births that occurred in region 4 (the Western US). *Hint:* Make sure you double check the type of the values in the region column."
   ]
  },
  {
   "cell_type": "code",
   "execution_count": 111,
   "metadata": {},
   "outputs": [
    {
     "data": {
      "text/plain": [
       "979657"
      ]
     },
     "execution_count": 111,
     "metadata": {},
     "output_type": "execute_result"
    }
   ],
   "source": [
    "regional_births = popn.select(0 , 4).group(\"REGION\", sum).sort(\"REGION\", descending = True)\n",
    "west_births = regional_births[\"BIRTHS sum\"][1]\n",
    "west_births\n",
    "\n",
    "\n"
   ]
  },
  {
   "cell_type": "markdown",
   "metadata": {},
   "source": [
    "**Question 5.** Assign `less_than_west_births` to the number of states that had a total population in 2016 that was smaller than the *number of babies born in region 4 (the Western US)* during this time interval."
   ]
  },
  {
   "cell_type": "code",
   "execution_count": 123,
   "metadata": {},
   "outputs": [
    {
     "data": {
      "text/plain": [
       "3"
      ]
     },
     "execution_count": 123,
     "metadata": {},
     "output_type": "execute_result"
    }
   ],
   "source": [
    "regional_births_below = regional_births.where(\"BIRTHS sum\", are.below(west_births))\n",
    "less_than_west_births = regional_births_below.num_rows\n",
    "less_than_west_births"
   ]
  },
  {
   "cell_type": "markdown",
   "metadata": {},
   "source": [
    "**Question 6.** \n",
    "\n",
    "In the code cell below, create a visualization that will show if there is an association between birth rate and death rate during this time interval. It may be helpful to create an intermediate table here."
   ]
  },
  {
   "cell_type": "code",
   "execution_count": 135,
   "metadata": {
    "deletable": false,
    "manual_problem_id": "birth_death_rates_graph"
   },
   "outputs": [
    {
     "data": {
      "image/png": "[encoded data removed]",
      "text/plain": [
       "<Figure size 360x360 with 1 Axes>"
      ]
     },
     "metadata": {},
     "output_type": "display_data"
    }
   ],
   "source": [
    "# Generate your chart in this cell\n",
    "popn.select(4,5).scatter(\"DEATHS\", \"DEATHS\")\n",
    "\n"
   ]
  },
  {
   "cell_type": "markdown",
   "metadata": {},
   "source": [
    "**Question 7.** `True` or `False`: There is an association between birth rate and death rate during this time interval. \n",
    "\n",
    "Assign your answer to `assoc` in the cell below, and write one sentence to explain your answer."
   ]
  },
  {
   "cell_type": "code",
   "execution_count": 138,
   "metadata": {},
   "outputs": [],
   "source": [
    "assoc = True\n",
    "explanation = When there are many births there seems to be corresponding many deaths also"
   ]
  },
  {
   "cell_type": "markdown",
   "metadata": {},
   "source": [
    "## 4. Marginal Histograms\n"
   ]
  },
  {
   "cell_type": "markdown",
   "metadata": {},
   "source": [
    "Consider the following scatter plot: ![](scatter.png)\n",
    "\n",
    "The axes of the plot represent values of two variables: $x$ and $y$. "
   ]
  },
  {
   "cell_type": "markdown",
   "metadata": {},
   "source": [
    "Suppose we have a table called `t` that has two columns in it:\n",
    "\n",
    "- `x`: a column containing the x-values of the points in the scatter plot\n",
    "- `y`: a column containing the y-values of the points in the scatter plot"
   ]
  },
  {
   "cell_type": "markdown",
   "metadata": {},
   "source": [
    "**Question 1:** Match each of the following histograms to the code that produced them. Explain your reasoning."
   ]
  },
  {
   "cell_type": "markdown",
   "metadata": {},
   "source": [
    "**Histogram A:** ![](var1.png)\n",
    "**Histogram B:** ![](var2.png)"
   ]
  },
  {
   "cell_type": "markdown",
   "metadata": {
    "deletable": false,
    "for_assignment_type": "student",
    "manual_problem_id": "hist_x"
   },
   "source": [
    "**Line 1:** `t.hist('x')`\n",
    "\n",
    "**Histogram for Line 1:* B*  \n",
    "\n",
    "**Explanation:*There are many points that are corresponding to the x_value close to -0.5 because of the overlap of both the positive and y values in the distribution.*"
   ]
  },
  {
   "cell_type": "markdown",
   "metadata": {
    "deletable": false,
    "for_assignment_type": "student",
    "manual_problem_id": "hist_y"
   },
   "source": [
    "**Line 2:** `t.hist('y')`\n",
    "\n",
    "**Histogram for Line 2:*A* \n",
    "\n",
    "**Explanation: There are is no distribution of y_values in the region between -0.5 and 0.5 which is what the scatter shows.*"
   ]
  },
  {
   "cell_type": "code",
   "execution_count": 153,
   "metadata": {},
   "outputs": [
    {
     "data": {
      "text/plain": [
       "200"
      ]
     },
     "execution_count": 153,
     "metadata": {},
     "output_type": "execute_result"
    }
   ],
   "source": [
    "\n",
    "\n"
   ]
  },
  {
   "cell_type": "code",
   "execution_count": null,
   "metadata": {},
   "outputs": [],
   "source": []
  },
  {
   "cell_type": "markdown",
   "metadata": {},
   "source": [
    "# (For instructor use only) \n",
    "\n",
    "\n",
    "\n",
    "## Your Grade: "
   ]
  },
  {
   "cell_type": "code",
   "execution_count": null,
   "metadata": {},
   "outputs": [],
   "source": []
  }
 ],
 "metadata": {
  "kernelspec": {
   "display_name": "Python 3",
   "language": "python",
   "name": "python3"
  },
  "language_info": {
   "codemirror_mode": {
    "name": "ipython",
    "version": 3
   },
   "file_extension": ".py",
   "mimetype": "text/x-python",
   "name": "python",
   "nbconvert_exporter": "python",
   "pygments_lexer": "ipython3",
   "version": "3.6.6"
  }
 },
 "nbformat": 4,
 "nbformat_minor": 1
}
